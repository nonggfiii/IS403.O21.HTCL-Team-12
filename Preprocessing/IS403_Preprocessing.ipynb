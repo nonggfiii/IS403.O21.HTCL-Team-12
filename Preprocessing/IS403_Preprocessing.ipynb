{
  "cells": [
    {
      "cell_type": "markdown",
      "source": [
        "# Preprocessing"
      ],
      "metadata": {
        "id": "qhD3wUJHsqFG"
      }
    },
    {
      "cell_type": "markdown",
      "source": [
        "#### Set up environment\n"
      ],
      "metadata": {
        "id": "4-ewutP4I3oq"
      }
    },
    {
      "cell_type": "code",
      "source": [
        "import pandas as pd\n",
        "import numpy as np\n",
        "import seaborn as sns\n",
        "from sklearn.preprocessing import MinMaxScaler\n",
        "import joblib\n",
        "import statistics\n",
        "import warnings\n",
        "warnings.filterwarnings('ignore')\n",
        "from matplotlib import pyplot as plt\n",
        "from sklearn.model_selection import train_test_split\n",
        "\n",
        "import matplotlib.pyplot as plt\n",
        "from sklearn.linear_model import LinearRegression\n",
        "from sklearn.metrics import mean_squared_error\n",
        "\n",
        "from statsmodels.graphics.tsaplots import plot_pacf\n",
        "from statsmodels.graphics.tsaplots import plot_acf\n",
        "from statsmodels.tsa.arima_process import ArmaProcess\n",
        "from statsmodels.stats.diagnostic import acorr_ljungbox\n",
        "from statsmodels.tsa.statespace. sarimax import SARIMAX\n",
        "from statsmodels.tsa.stattools import adfuller\n",
        "from statsmodels.tsa.stattools import pacf\n",
        "from statsmodels.tsa.stattools import acf\n",
        "from tqdm import tqdm_notebook\n",
        "from itertools import product\n",
        "import os\n",
        "%matplotlib inline"
      ],
      "metadata": {
        "id": "M8wlvCZDI4HS"
      },
      "execution_count": null,
      "outputs": []
    },
    {
      "cell_type": "code",
      "source": [
        "from google.colab import drive\n",
        "drive.mount('/content/drive')"
      ],
      "metadata": {
        "id": "TV97LA7KJA2D",
        "outputId": "ac9a037b-2d72-4f4e-ea13-333238a0f62e",
        "colab": {
          "base_uri": "https://localhost:8080/"
        }
      },
      "execution_count": null,
      "outputs": [
        {
          "output_type": "stream",
          "name": "stdout",
          "text": [
            "Mounted at /content/drive\n"
          ]
        }
      ]
    },
    {
      "cell_type": "code",
      "source": [
        "prj_path = '/content/drive/My Drive/PTDLKD_IS403/'\n",
        "data_path = prj_path + \"dataset/\""
      ],
      "metadata": {
        "id": "OYZxg6V_JHfi"
      },
      "execution_count": null,
      "outputs": []
    },
    {
      "cell_type": "code",
      "source": [
        "df1 = pd.read_csv(data_path + 'bnb.csv')\n",
        "df2 = pd.read_csv(data_path + 'btc.csv')\n",
        "df = pd.read_csv(data_path + 'eth.csv')"
      ],
      "metadata": {
        "id": "abF4cdFNJW6i"
      },
      "execution_count": null,
      "outputs": []
    },
    {
      "cell_type": "markdown",
      "source": [
        "## Describe"
      ],
      "metadata": {
        "id": "x8E88TcI1SPL"
      }
    },
    {
      "cell_type": "code",
      "source": [
        "df1.describe()"
      ],
      "metadata": {
        "id": "eN_9D0IzJtxH",
        "outputId": "d12bd5a2-a9ae-4532-fc41-5397a7455a6f",
        "colab": {
          "base_uri": "https://localhost:8080/"
        }
      },
      "execution_count": null,
      "outputs": [
        {
          "output_type": "execute_result",
          "data": {
            "text/plain": [
              "              Open         High          Low        Close    Adj Close  \\\n",
              "count  1919.000000  1919.000000  1919.000000  1919.000000  1919.000000   \n",
              "mean    229.147984   235.511461   222.415440   229.421968   229.421968   \n",
              "std     184.214636   189.532327   178.358980   184.271939   184.271939   \n",
              "min       9.365420    10.236060     6.963391     9.386050     9.386050   \n",
              "25%      27.092795    27.873466    26.186439    27.138056    27.138056   \n",
              "50%     247.052170   254.181778   242.562180   247.505020   247.505020   \n",
              "75%     331.365341   339.693481   322.423462   331.759689   331.759689   \n",
              "max     676.315918   690.931946   634.549500   675.684082   675.684082   \n",
              "\n",
              "             Volume  \n",
              "count  1.919000e+03  \n",
              "mean   1.176308e+09  \n",
              "std    1.391601e+09  \n",
              "min    8.942123e+07  \n",
              "25%    3.353877e+08  \n",
              "50%    6.389410e+08  \n",
              "75%    1.595087e+09  \n",
              "max    1.798295e+10  "
            ],
            "text/html": [
              "\n",
              "  <div id=\"df-d0090b2c-606f-4975-bde4-a739f6f34594\" class=\"colab-df-container\">\n",
              "    <div>\n",
              "<style scoped>\n",
              "    .dataframe tbody tr th:only-of-type {\n",
              "        vertical-align: middle;\n",
              "    }\n",
              "\n",
              "    .dataframe tbody tr th {\n",
              "        vertical-align: top;\n",
              "    }\n",
              "\n",
              "    .dataframe thead th {\n",
              "        text-align: right;\n",
              "    }\n",
              "</style>\n",
              "<table border=\"1\" class=\"dataframe\">\n",
              "  <thead>\n",
              "    <tr style=\"text-align: right;\">\n",
              "      <th></th>\n",
              "      <th>Open</th>\n",
              "      <th>High</th>\n",
              "      <th>Low</th>\n",
              "      <th>Close</th>\n",
              "      <th>Adj Close</th>\n",
              "      <th>Volume</th>\n",
              "    </tr>\n",
              "  </thead>\n",
              "  <tbody>\n",
              "    <tr>\n",
              "      <th>count</th>\n",
              "      <td>1919.000000</td>\n",
              "      <td>1919.000000</td>\n",
              "      <td>1919.000000</td>\n",
              "      <td>1919.000000</td>\n",
              "      <td>1919.000000</td>\n",
              "      <td>1.919000e+03</td>\n",
              "    </tr>\n",
              "    <tr>\n",
              "      <th>mean</th>\n",
              "      <td>229.147984</td>\n",
              "      <td>235.511461</td>\n",
              "      <td>222.415440</td>\n",
              "      <td>229.421968</td>\n",
              "      <td>229.421968</td>\n",
              "      <td>1.176308e+09</td>\n",
              "    </tr>\n",
              "    <tr>\n",
              "      <th>std</th>\n",
              "      <td>184.214636</td>\n",
              "      <td>189.532327</td>\n",
              "      <td>178.358980</td>\n",
              "      <td>184.271939</td>\n",
              "      <td>184.271939</td>\n",
              "      <td>1.391601e+09</td>\n",
              "    </tr>\n",
              "    <tr>\n",
              "      <th>min</th>\n",
              "      <td>9.365420</td>\n",
              "      <td>10.236060</td>\n",
              "      <td>6.963391</td>\n",
              "      <td>9.386050</td>\n",
              "      <td>9.386050</td>\n",
              "      <td>8.942123e+07</td>\n",
              "    </tr>\n",
              "    <tr>\n",
              "      <th>25%</th>\n",
              "      <td>27.092795</td>\n",
              "      <td>27.873466</td>\n",
              "      <td>26.186439</td>\n",
              "      <td>27.138056</td>\n",
              "      <td>27.138056</td>\n",
              "      <td>3.353877e+08</td>\n",
              "    </tr>\n",
              "    <tr>\n",
              "      <th>50%</th>\n",
              "      <td>247.052170</td>\n",
              "      <td>254.181778</td>\n",
              "      <td>242.562180</td>\n",
              "      <td>247.505020</td>\n",
              "      <td>247.505020</td>\n",
              "      <td>6.389410e+08</td>\n",
              "    </tr>\n",
              "    <tr>\n",
              "      <th>75%</th>\n",
              "      <td>331.365341</td>\n",
              "      <td>339.693481</td>\n",
              "      <td>322.423462</td>\n",
              "      <td>331.759689</td>\n",
              "      <td>331.759689</td>\n",
              "      <td>1.595087e+09</td>\n",
              "    </tr>\n",
              "    <tr>\n",
              "      <th>max</th>\n",
              "      <td>676.315918</td>\n",
              "      <td>690.931946</td>\n",
              "      <td>634.549500</td>\n",
              "      <td>675.684082</td>\n",
              "      <td>675.684082</td>\n",
              "      <td>1.798295e+10</td>\n",
              "    </tr>\n",
              "  </tbody>\n",
              "</table>\n",
              "</div>\n",
              "    <div class=\"colab-df-buttons\">\n",
              "\n",
              "  <div class=\"colab-df-container\">\n",
              "    <button class=\"colab-df-convert\" onclick=\"convertToInteractive('df-d0090b2c-606f-4975-bde4-a739f6f34594')\"\n",
              "            title=\"Convert this dataframe to an interactive table.\"\n",
              "            style=\"display:none;\">\n",
              "\n",
              "  <svg xmlns=\"http://www.w3.org/2000/svg\" height=\"24px\" viewBox=\"0 -960 960 960\">\n",
              "    <path d=\"M120-120v-720h720v720H120Zm60-500h600v-160H180v160Zm220 220h160v-160H400v160Zm0 220h160v-160H400v160ZM180-400h160v-160H180v160Zm440 0h160v-160H620v160ZM180-180h160v-160H180v160Zm440 0h160v-160H620v160Z\"/>\n",
              "  </svg>\n",
              "    </button>\n",
              "\n",
              "  <style>\n",
              "    .colab-df-container {\n",
              "      display:flex;\n",
              "      gap: 12px;\n",
              "    }\n",
              "\n",
              "    .colab-df-convert {\n",
              "      background-color: #E8F0FE;\n",
              "      border: none;\n",
              "      border-radius: 50%;\n",
              "      cursor: pointer;\n",
              "      display: none;\n",
              "      fill: #1967D2;\n",
              "      height: 32px;\n",
              "      padding: 0 0 0 0;\n",
              "      width: 32px;\n",
              "    }\n",
              "\n",
              "    .colab-df-convert:hover {\n",
              "      background-color: #E2EBFA;\n",
              "      box-shadow: 0px 1px 2px rgba(60, 64, 67, 0.3), 0px 1px 3px 1px rgba(60, 64, 67, 0.15);\n",
              "      fill: #174EA6;\n",
              "    }\n",
              "\n",
              "    .colab-df-buttons div {\n",
              "      margin-bottom: 4px;\n",
              "    }\n",
              "\n",
              "    [theme=dark] .colab-df-convert {\n",
              "      background-color: #3B4455;\n",
              "      fill: #D2E3FC;\n",
              "    }\n",
              "\n",
              "    [theme=dark] .colab-df-convert:hover {\n",
              "      background-color: #434B5C;\n",
              "      box-shadow: 0px 1px 3px 1px rgba(0, 0, 0, 0.15);\n",
              "      filter: drop-shadow(0px 1px 2px rgba(0, 0, 0, 0.3));\n",
              "      fill: #FFFFFF;\n",
              "    }\n",
              "  </style>\n",
              "\n",
              "    <script>\n",
              "      const buttonEl =\n",
              "        document.querySelector('#df-d0090b2c-606f-4975-bde4-a739f6f34594 button.colab-df-convert');\n",
              "      buttonEl.style.display =\n",
              "        google.colab.kernel.accessAllowed ? 'block' : 'none';\n",
              "\n",
              "      async function convertToInteractive(key) {\n",
              "        const element = document.querySelector('#df-d0090b2c-606f-4975-bde4-a739f6f34594');\n",
              "        const dataTable =\n",
              "          await google.colab.kernel.invokeFunction('convertToInteractive',\n",
              "                                                    [key], {});\n",
              "        if (!dataTable) return;\n",
              "\n",
              "        const docLinkHtml = 'Like what you see? Visit the ' +\n",
              "          '<a target=\"_blank\" href=https://colab.research.google.com/notebooks/data_table.ipynb>data table notebook</a>'\n",
              "          + ' to learn more about interactive tables.';\n",
              "        element.innerHTML = '';\n",
              "        dataTable['output_type'] = 'display_data';\n",
              "        await google.colab.output.renderOutput(dataTable, element);\n",
              "        const docLink = document.createElement('div');\n",
              "        docLink.innerHTML = docLinkHtml;\n",
              "        element.appendChild(docLink);\n",
              "      }\n",
              "    </script>\n",
              "  </div>\n",
              "\n",
              "\n",
              "<div id=\"df-ea7cc700-c515-44ab-b700-4d45e0ece0c9\">\n",
              "  <button class=\"colab-df-quickchart\" onclick=\"quickchart('df-ea7cc700-c515-44ab-b700-4d45e0ece0c9')\"\n",
              "            title=\"Suggest charts\"\n",
              "            style=\"display:none;\">\n",
              "\n",
              "<svg xmlns=\"http://www.w3.org/2000/svg\" height=\"24px\"viewBox=\"0 0 24 24\"\n",
              "     width=\"24px\">\n",
              "    <g>\n",
              "        <path d=\"M19 3H5c-1.1 0-2 .9-2 2v14c0 1.1.9 2 2 2h14c1.1 0 2-.9 2-2V5c0-1.1-.9-2-2-2zM9 17H7v-7h2v7zm4 0h-2V7h2v10zm4 0h-2v-4h2v4z\"/>\n",
              "    </g>\n",
              "</svg>\n",
              "  </button>\n",
              "\n",
              "<style>\n",
              "  .colab-df-quickchart {\n",
              "      --bg-color: #E8F0FE;\n",
              "      --fill-color: #1967D2;\n",
              "      --hover-bg-color: #E2EBFA;\n",
              "      --hover-fill-color: #174EA6;\n",
              "      --disabled-fill-color: #AAA;\n",
              "      --disabled-bg-color: #DDD;\n",
              "  }\n",
              "\n",
              "  [theme=dark] .colab-df-quickchart {\n",
              "      --bg-color: #3B4455;\n",
              "      --fill-color: #D2E3FC;\n",
              "      --hover-bg-color: #434B5C;\n",
              "      --hover-fill-color: #FFFFFF;\n",
              "      --disabled-bg-color: #3B4455;\n",
              "      --disabled-fill-color: #666;\n",
              "  }\n",
              "\n",
              "  .colab-df-quickchart {\n",
              "    background-color: var(--bg-color);\n",
              "    border: none;\n",
              "    border-radius: 50%;\n",
              "    cursor: pointer;\n",
              "    display: none;\n",
              "    fill: var(--fill-color);\n",
              "    height: 32px;\n",
              "    padding: 0;\n",
              "    width: 32px;\n",
              "  }\n",
              "\n",
              "  .colab-df-quickchart:hover {\n",
              "    background-color: var(--hover-bg-color);\n",
              "    box-shadow: 0 1px 2px rgba(60, 64, 67, 0.3), 0 1px 3px 1px rgba(60, 64, 67, 0.15);\n",
              "    fill: var(--button-hover-fill-color);\n",
              "  }\n",
              "\n",
              "  .colab-df-quickchart-complete:disabled,\n",
              "  .colab-df-quickchart-complete:disabled:hover {\n",
              "    background-color: var(--disabled-bg-color);\n",
              "    fill: var(--disabled-fill-color);\n",
              "    box-shadow: none;\n",
              "  }\n",
              "\n",
              "  .colab-df-spinner {\n",
              "    border: 2px solid var(--fill-color);\n",
              "    border-color: transparent;\n",
              "    border-bottom-color: var(--fill-color);\n",
              "    animation:\n",
              "      spin 1s steps(1) infinite;\n",
              "  }\n",
              "\n",
              "  @keyframes spin {\n",
              "    0% {\n",
              "      border-color: transparent;\n",
              "      border-bottom-color: var(--fill-color);\n",
              "      border-left-color: var(--fill-color);\n",
              "    }\n",
              "    20% {\n",
              "      border-color: transparent;\n",
              "      border-left-color: var(--fill-color);\n",
              "      border-top-color: var(--fill-color);\n",
              "    }\n",
              "    30% {\n",
              "      border-color: transparent;\n",
              "      border-left-color: var(--fill-color);\n",
              "      border-top-color: var(--fill-color);\n",
              "      border-right-color: var(--fill-color);\n",
              "    }\n",
              "    40% {\n",
              "      border-color: transparent;\n",
              "      border-right-color: var(--fill-color);\n",
              "      border-top-color: var(--fill-color);\n",
              "    }\n",
              "    60% {\n",
              "      border-color: transparent;\n",
              "      border-right-color: var(--fill-color);\n",
              "    }\n",
              "    80% {\n",
              "      border-color: transparent;\n",
              "      border-right-color: var(--fill-color);\n",
              "      border-bottom-color: var(--fill-color);\n",
              "    }\n",
              "    90% {\n",
              "      border-color: transparent;\n",
              "      border-bottom-color: var(--fill-color);\n",
              "    }\n",
              "  }\n",
              "</style>\n",
              "\n",
              "  <script>\n",
              "    async function quickchart(key) {\n",
              "      const quickchartButtonEl =\n",
              "        document.querySelector('#' + key + ' button');\n",
              "      quickchartButtonEl.disabled = true;  // To prevent multiple clicks.\n",
              "      quickchartButtonEl.classList.add('colab-df-spinner');\n",
              "      try {\n",
              "        const charts = await google.colab.kernel.invokeFunction(\n",
              "            'suggestCharts', [key], {});\n",
              "      } catch (error) {\n",
              "        console.error('Error during call to suggestCharts:', error);\n",
              "      }\n",
              "      quickchartButtonEl.classList.remove('colab-df-spinner');\n",
              "      quickchartButtonEl.classList.add('colab-df-quickchart-complete');\n",
              "    }\n",
              "    (() => {\n",
              "      let quickchartButtonEl =\n",
              "        document.querySelector('#df-ea7cc700-c515-44ab-b700-4d45e0ece0c9 button');\n",
              "      quickchartButtonEl.style.display =\n",
              "        google.colab.kernel.accessAllowed ? 'block' : 'none';\n",
              "    })();\n",
              "  </script>\n",
              "</div>\n",
              "\n",
              "    </div>\n",
              "  </div>\n"
            ],
            "application/vnd.google.colaboratory.intrinsic+json": {
              "type": "dataframe",
              "summary": "{\n  \"name\": \"df1\",\n  \"rows\": 8,\n  \"fields\": [\n    {\n      \"column\": \"Open\",\n      \"properties\": {\n        \"dtype\": \"number\",\n        \"std\": 627.557550916848,\n        \"min\": 9.3654203414917,\n        \"max\": 1919.0,\n        \"num_unique_values\": 8,\n        \"samples\": [\n          229.1479836215943,\n          247.0521697998047,\n          1919.0\n        ],\n        \"semantic_type\": \"\",\n        \"description\": \"\"\n      }\n    },\n    {\n      \"column\": \"High\",\n      \"properties\": {\n        \"dtype\": \"number\",\n        \"std\": 626.941888164099,\n        \"min\": 10.23606014251709,\n        \"max\": 1919.0,\n        \"num_unique_values\": 8,\n        \"samples\": [\n          235.5114606536261,\n          254.1817779541016,\n          1919.0\n        ],\n        \"semantic_type\": \"\",\n        \"description\": \"\"\n      }\n    },\n    {\n      \"column\": \"Low\",\n      \"properties\": {\n        \"dtype\": \"number\",\n        \"std\": 627.0709887079735,\n        \"min\": 6.963390827178955,\n        \"max\": 1919.0,\n        \"num_unique_values\": 8,\n        \"samples\": [\n          222.41544002589612,\n          242.5621795654297,\n          1919.0\n        ],\n        \"semantic_type\": \"\",\n        \"description\": \"\"\n      }\n    },\n    {\n      \"column\": \"Close\",\n      \"properties\": {\n        \"dtype\": \"number\",\n        \"std\": 627.4694341630524,\n        \"min\": 9.3860502243042,\n        \"max\": 1919.0,\n        \"num_unique_values\": 8,\n        \"samples\": [\n          229.42196786372597,\n          247.5050201416016,\n          1919.0\n        ],\n        \"semantic_type\": \"\",\n        \"description\": \"\"\n      }\n    },\n    {\n      \"column\": \"Adj Close\",\n      \"properties\": {\n        \"dtype\": \"number\",\n        \"std\": 627.4694341630524,\n        \"min\": 9.3860502243042,\n        \"max\": 1919.0,\n        \"num_unique_values\": 8,\n        \"samples\": [\n          229.42196786372597,\n          247.5050201416016,\n          1919.0\n        ],\n        \"semantic_type\": \"\",\n        \"description\": \"\"\n      }\n    },\n    {\n      \"column\": \"Volume\",\n      \"properties\": {\n        \"dtype\": \"number\",\n        \"std\": 6123063745.528991,\n        \"min\": 1919.0,\n        \"max\": 17982945189.0,\n        \"num_unique_values\": 8,\n        \"samples\": [\n          1176307935.9390306,\n          638940976.0,\n          1919.0\n        ],\n        \"semantic_type\": \"\",\n        \"description\": \"\"\n      }\n    }\n  ]\n}"
            }
          },
          "metadata": {},
          "execution_count": 6
        }
      ]
    },
    {
      "cell_type": "code",
      "source": [
        "df2.describe()"
      ],
      "metadata": {
        "colab": {
          "base_uri": "https://localhost:8080/"
        },
        "id": "7aS3ovAzxRr9",
        "outputId": "3f2f8ad6-a86a-4d53-8c12-2567ea089330"
      },
      "execution_count": null,
      "outputs": [
        {
          "output_type": "execute_result",
          "data": {
            "text/plain": [
              "               Open          High           Low         Close     Adj Close  \\\n",
              "count   1919.000000   1919.000000   1919.000000   1919.000000   1919.000000   \n",
              "mean   27881.878653  28514.078674  27211.635709  27912.937792  27912.937792   \n",
              "std    17893.371428  18332.127729  17398.101924  17904.705148  17904.705148   \n",
              "min     3759.832520   3867.381836   3733.749756   3761.557129   3761.557129   \n",
              "25%    10447.813965  10660.936523  10228.112793  10452.215332  10452.215332   \n",
              "50%    25920.257812  26248.103516  25640.261719  25931.472656  25931.472656   \n",
              "75%    41406.318359  42278.859375  40273.414062  41445.693359  41445.693359   \n",
              "max    73079.375000  73750.070312  71334.093750  73083.500000  73083.500000   \n",
              "\n",
              "             Volume  \n",
              "count  1.919000e+03  \n",
              "mean   3.004086e+10  \n",
              "std    1.779311e+10  \n",
              "min    5.331173e+09  \n",
              "25%    1.811022e+10  \n",
              "50%    2.640507e+10  \n",
              "75%    3.698896e+10  \n",
              "max    3.509679e+11  "
            ],
            "text/html": [
              "\n",
              "  <div id=\"df-86f35f83-0b2a-4810-ae1e-276895cbc6ec\" class=\"colab-df-container\">\n",
              "    <div>\n",
              "<style scoped>\n",
              "    .dataframe tbody tr th:only-of-type {\n",
              "        vertical-align: middle;\n",
              "    }\n",
              "\n",
              "    .dataframe tbody tr th {\n",
              "        vertical-align: top;\n",
              "    }\n",
              "\n",
              "    .dataframe thead th {\n",
              "        text-align: right;\n",
              "    }\n",
              "</style>\n",
              "<table border=\"1\" class=\"dataframe\">\n",
              "  <thead>\n",
              "    <tr style=\"text-align: right;\">\n",
              "      <th></th>\n",
              "      <th>Open</th>\n",
              "      <th>High</th>\n",
              "      <th>Low</th>\n",
              "      <th>Close</th>\n",
              "      <th>Adj Close</th>\n",
              "      <th>Volume</th>\n",
              "    </tr>\n",
              "  </thead>\n",
              "  <tbody>\n",
              "    <tr>\n",
              "      <th>count</th>\n",
              "      <td>1919.000000</td>\n",
              "      <td>1919.000000</td>\n",
              "      <td>1919.000000</td>\n",
              "      <td>1919.000000</td>\n",
              "      <td>1919.000000</td>\n",
              "      <td>1.919000e+03</td>\n",
              "    </tr>\n",
              "    <tr>\n",
              "      <th>mean</th>\n",
              "      <td>27881.878653</td>\n",
              "      <td>28514.078674</td>\n",
              "      <td>27211.635709</td>\n",
              "      <td>27912.937792</td>\n",
              "      <td>27912.937792</td>\n",
              "      <td>3.004086e+10</td>\n",
              "    </tr>\n",
              "    <tr>\n",
              "      <th>std</th>\n",
              "      <td>17893.371428</td>\n",
              "      <td>18332.127729</td>\n",
              "      <td>17398.101924</td>\n",
              "      <td>17904.705148</td>\n",
              "      <td>17904.705148</td>\n",
              "      <td>1.779311e+10</td>\n",
              "    </tr>\n",
              "    <tr>\n",
              "      <th>min</th>\n",
              "      <td>3759.832520</td>\n",
              "      <td>3867.381836</td>\n",
              "      <td>3733.749756</td>\n",
              "      <td>3761.557129</td>\n",
              "      <td>3761.557129</td>\n",
              "      <td>5.331173e+09</td>\n",
              "    </tr>\n",
              "    <tr>\n",
              "      <th>25%</th>\n",
              "      <td>10447.813965</td>\n",
              "      <td>10660.936523</td>\n",
              "      <td>10228.112793</td>\n",
              "      <td>10452.215332</td>\n",
              "      <td>10452.215332</td>\n",
              "      <td>1.811022e+10</td>\n",
              "    </tr>\n",
              "    <tr>\n",
              "      <th>50%</th>\n",
              "      <td>25920.257812</td>\n",
              "      <td>26248.103516</td>\n",
              "      <td>25640.261719</td>\n",
              "      <td>25931.472656</td>\n",
              "      <td>25931.472656</td>\n",
              "      <td>2.640507e+10</td>\n",
              "    </tr>\n",
              "    <tr>\n",
              "      <th>75%</th>\n",
              "      <td>41406.318359</td>\n",
              "      <td>42278.859375</td>\n",
              "      <td>40273.414062</td>\n",
              "      <td>41445.693359</td>\n",
              "      <td>41445.693359</td>\n",
              "      <td>3.698896e+10</td>\n",
              "    </tr>\n",
              "    <tr>\n",
              "      <th>max</th>\n",
              "      <td>73079.375000</td>\n",
              "      <td>73750.070312</td>\n",
              "      <td>71334.093750</td>\n",
              "      <td>73083.500000</td>\n",
              "      <td>73083.500000</td>\n",
              "      <td>3.509679e+11</td>\n",
              "    </tr>\n",
              "  </tbody>\n",
              "</table>\n",
              "</div>\n",
              "    <div class=\"colab-df-buttons\">\n",
              "\n",
              "  <div class=\"colab-df-container\">\n",
              "    <button class=\"colab-df-convert\" onclick=\"convertToInteractive('df-86f35f83-0b2a-4810-ae1e-276895cbc6ec')\"\n",
              "            title=\"Convert this dataframe to an interactive table.\"\n",
              "            style=\"display:none;\">\n",
              "\n",
              "  <svg xmlns=\"http://www.w3.org/2000/svg\" height=\"24px\" viewBox=\"0 -960 960 960\">\n",
              "    <path d=\"M120-120v-720h720v720H120Zm60-500h600v-160H180v160Zm220 220h160v-160H400v160Zm0 220h160v-160H400v160ZM180-400h160v-160H180v160Zm440 0h160v-160H620v160ZM180-180h160v-160H180v160Zm440 0h160v-160H620v160Z\"/>\n",
              "  </svg>\n",
              "    </button>\n",
              "\n",
              "  <style>\n",
              "    .colab-df-container {\n",
              "      display:flex;\n",
              "      gap: 12px;\n",
              "    }\n",
              "\n",
              "    .colab-df-convert {\n",
              "      background-color: #E8F0FE;\n",
              "      border: none;\n",
              "      border-radius: 50%;\n",
              "      cursor: pointer;\n",
              "      display: none;\n",
              "      fill: #1967D2;\n",
              "      height: 32px;\n",
              "      padding: 0 0 0 0;\n",
              "      width: 32px;\n",
              "    }\n",
              "\n",
              "    .colab-df-convert:hover {\n",
              "      background-color: #E2EBFA;\n",
              "      box-shadow: 0px 1px 2px rgba(60, 64, 67, 0.3), 0px 1px 3px 1px rgba(60, 64, 67, 0.15);\n",
              "      fill: #174EA6;\n",
              "    }\n",
              "\n",
              "    .colab-df-buttons div {\n",
              "      margin-bottom: 4px;\n",
              "    }\n",
              "\n",
              "    [theme=dark] .colab-df-convert {\n",
              "      background-color: #3B4455;\n",
              "      fill: #D2E3FC;\n",
              "    }\n",
              "\n",
              "    [theme=dark] .colab-df-convert:hover {\n",
              "      background-color: #434B5C;\n",
              "      box-shadow: 0px 1px 3px 1px rgba(0, 0, 0, 0.15);\n",
              "      filter: drop-shadow(0px 1px 2px rgba(0, 0, 0, 0.3));\n",
              "      fill: #FFFFFF;\n",
              "    }\n",
              "  </style>\n",
              "\n",
              "    <script>\n",
              "      const buttonEl =\n",
              "        document.querySelector('#df-86f35f83-0b2a-4810-ae1e-276895cbc6ec button.colab-df-convert');\n",
              "      buttonEl.style.display =\n",
              "        google.colab.kernel.accessAllowed ? 'block' : 'none';\n",
              "\n",
              "      async function convertToInteractive(key) {\n",
              "        const element = document.querySelector('#df-86f35f83-0b2a-4810-ae1e-276895cbc6ec');\n",
              "        const dataTable =\n",
              "          await google.colab.kernel.invokeFunction('convertToInteractive',\n",
              "                                                    [key], {});\n",
              "        if (!dataTable) return;\n",
              "\n",
              "        const docLinkHtml = 'Like what you see? Visit the ' +\n",
              "          '<a target=\"_blank\" href=https://colab.research.google.com/notebooks/data_table.ipynb>data table notebook</a>'\n",
              "          + ' to learn more about interactive tables.';\n",
              "        element.innerHTML = '';\n",
              "        dataTable['output_type'] = 'display_data';\n",
              "        await google.colab.output.renderOutput(dataTable, element);\n",
              "        const docLink = document.createElement('div');\n",
              "        docLink.innerHTML = docLinkHtml;\n",
              "        element.appendChild(docLink);\n",
              "      }\n",
              "    </script>\n",
              "  </div>\n",
              "\n",
              "\n",
              "<div id=\"df-c6cd2c9f-5b38-44cf-babe-2feb971c1a4d\">\n",
              "  <button class=\"colab-df-quickchart\" onclick=\"quickchart('df-c6cd2c9f-5b38-44cf-babe-2feb971c1a4d')\"\n",
              "            title=\"Suggest charts\"\n",
              "            style=\"display:none;\">\n",
              "\n",
              "<svg xmlns=\"http://www.w3.org/2000/svg\" height=\"24px\"viewBox=\"0 0 24 24\"\n",
              "     width=\"24px\">\n",
              "    <g>\n",
              "        <path d=\"M19 3H5c-1.1 0-2 .9-2 2v14c0 1.1.9 2 2 2h14c1.1 0 2-.9 2-2V5c0-1.1-.9-2-2-2zM9 17H7v-7h2v7zm4 0h-2V7h2v10zm4 0h-2v-4h2v4z\"/>\n",
              "    </g>\n",
              "</svg>\n",
              "  </button>\n",
              "\n",
              "<style>\n",
              "  .colab-df-quickchart {\n",
              "      --bg-color: #E8F0FE;\n",
              "      --fill-color: #1967D2;\n",
              "      --hover-bg-color: #E2EBFA;\n",
              "      --hover-fill-color: #174EA6;\n",
              "      --disabled-fill-color: #AAA;\n",
              "      --disabled-bg-color: #DDD;\n",
              "  }\n",
              "\n",
              "  [theme=dark] .colab-df-quickchart {\n",
              "      --bg-color: #3B4455;\n",
              "      --fill-color: #D2E3FC;\n",
              "      --hover-bg-color: #434B5C;\n",
              "      --hover-fill-color: #FFFFFF;\n",
              "      --disabled-bg-color: #3B4455;\n",
              "      --disabled-fill-color: #666;\n",
              "  }\n",
              "\n",
              "  .colab-df-quickchart {\n",
              "    background-color: var(--bg-color);\n",
              "    border: none;\n",
              "    border-radius: 50%;\n",
              "    cursor: pointer;\n",
              "    display: none;\n",
              "    fill: var(--fill-color);\n",
              "    height: 32px;\n",
              "    padding: 0;\n",
              "    width: 32px;\n",
              "  }\n",
              "\n",
              "  .colab-df-quickchart:hover {\n",
              "    background-color: var(--hover-bg-color);\n",
              "    box-shadow: 0 1px 2px rgba(60, 64, 67, 0.3), 0 1px 3px 1px rgba(60, 64, 67, 0.15);\n",
              "    fill: var(--button-hover-fill-color);\n",
              "  }\n",
              "\n",
              "  .colab-df-quickchart-complete:disabled,\n",
              "  .colab-df-quickchart-complete:disabled:hover {\n",
              "    background-color: var(--disabled-bg-color);\n",
              "    fill: var(--disabled-fill-color);\n",
              "    box-shadow: none;\n",
              "  }\n",
              "\n",
              "  .colab-df-spinner {\n",
              "    border: 2px solid var(--fill-color);\n",
              "    border-color: transparent;\n",
              "    border-bottom-color: var(--fill-color);\n",
              "    animation:\n",
              "      spin 1s steps(1) infinite;\n",
              "  }\n",
              "\n",
              "  @keyframes spin {\n",
              "    0% {\n",
              "      border-color: transparent;\n",
              "      border-bottom-color: var(--fill-color);\n",
              "      border-left-color: var(--fill-color);\n",
              "    }\n",
              "    20% {\n",
              "      border-color: transparent;\n",
              "      border-left-color: var(--fill-color);\n",
              "      border-top-color: var(--fill-color);\n",
              "    }\n",
              "    30% {\n",
              "      border-color: transparent;\n",
              "      border-left-color: var(--fill-color);\n",
              "      border-top-color: var(--fill-color);\n",
              "      border-right-color: var(--fill-color);\n",
              "    }\n",
              "    40% {\n",
              "      border-color: transparent;\n",
              "      border-right-color: var(--fill-color);\n",
              "      border-top-color: var(--fill-color);\n",
              "    }\n",
              "    60% {\n",
              "      border-color: transparent;\n",
              "      border-right-color: var(--fill-color);\n",
              "    }\n",
              "    80% {\n",
              "      border-color: transparent;\n",
              "      border-right-color: var(--fill-color);\n",
              "      border-bottom-color: var(--fill-color);\n",
              "    }\n",
              "    90% {\n",
              "      border-color: transparent;\n",
              "      border-bottom-color: var(--fill-color);\n",
              "    }\n",
              "  }\n",
              "</style>\n",
              "\n",
              "  <script>\n",
              "    async function quickchart(key) {\n",
              "      const quickchartButtonEl =\n",
              "        document.querySelector('#' + key + ' button');\n",
              "      quickchartButtonEl.disabled = true;  // To prevent multiple clicks.\n",
              "      quickchartButtonEl.classList.add('colab-df-spinner');\n",
              "      try {\n",
              "        const charts = await google.colab.kernel.invokeFunction(\n",
              "            'suggestCharts', [key], {});\n",
              "      } catch (error) {\n",
              "        console.error('Error during call to suggestCharts:', error);\n",
              "      }\n",
              "      quickchartButtonEl.classList.remove('colab-df-spinner');\n",
              "      quickchartButtonEl.classList.add('colab-df-quickchart-complete');\n",
              "    }\n",
              "    (() => {\n",
              "      let quickchartButtonEl =\n",
              "        document.querySelector('#df-c6cd2c9f-5b38-44cf-babe-2feb971c1a4d button');\n",
              "      quickchartButtonEl.style.display =\n",
              "        google.colab.kernel.accessAllowed ? 'block' : 'none';\n",
              "    })();\n",
              "  </script>\n",
              "</div>\n",
              "\n",
              "    </div>\n",
              "  </div>\n"
            ],
            "application/vnd.google.colaboratory.intrinsic+json": {
              "type": "dataframe",
              "summary": "{\n  \"name\": \"df2\",\n  \"rows\": 8,\n  \"fields\": [\n    {\n      \"column\": \"Open\",\n      \"properties\": {\n        \"dtype\": \"number\",\n        \"std\": 23407.65282376334,\n        \"min\": 1919.0,\n        \"max\": 73079.375,\n        \"num_unique_values\": 8,\n        \"samples\": [\n          27881.878652694886,\n          25920.2578125,\n          1919.0\n        ],\n        \"semantic_type\": \"\",\n        \"description\": \"\"\n      }\n    },\n    {\n      \"column\": \"High\",\n      \"properties\": {\n        \"dtype\": \"number\",\n        \"std\": 23647.848987248868,\n        \"min\": 1919.0,\n        \"max\": 73750.0703125,\n        \"num_unique_values\": 8,\n        \"samples\": [\n          28514.078674348213,\n          26248.103515625,\n          1919.0\n        ],\n        \"semantic_type\": \"\",\n        \"description\": \"\"\n      }\n    },\n    {\n      \"column\": \"Low\",\n      \"properties\": {\n        \"dtype\": \"number\",\n        \"std\": 22821.577456904997,\n        \"min\": 1919.0,\n        \"max\": 71334.09375,\n        \"num_unique_values\": 8,\n        \"samples\": [\n          27211.635709364007,\n          25640.26171875,\n          1919.0\n        ],\n        \"semantic_type\": \"\",\n        \"description\": \"\"\n      }\n    },\n    {\n      \"column\": \"Close\",\n      \"properties\": {\n        \"dtype\": \"number\",\n        \"std\": 23412.13131930712,\n        \"min\": 1919.0,\n        \"max\": 73083.5,\n        \"num_unique_values\": 8,\n        \"samples\": [\n          27912.93779184919,\n          25931.47265625,\n          1919.0\n        ],\n        \"semantic_type\": \"\",\n        \"description\": \"\"\n      }\n    },\n    {\n      \"column\": \"Adj Close\",\n      \"properties\": {\n        \"dtype\": \"number\",\n        \"std\": 23412.13131930712,\n        \"min\": 1919.0,\n        \"max\": 73083.5,\n        \"num_unique_values\": 8,\n        \"samples\": [\n          27912.93779184919,\n          25931.47265625,\n          1919.0\n        ],\n        \"semantic_type\": \"\",\n        \"description\": \"\"\n      }\n    },\n    {\n      \"column\": \"Volume\",\n      \"properties\": {\n        \"dtype\": \"number\",\n        \"std\": 117921828224.7712,\n        \"min\": 1919.0,\n        \"max\": 350967941479.0,\n        \"num_unique_values\": 8,\n        \"samples\": [\n          30040858025.96665,\n          26405069715.0,\n          1919.0\n        ],\n        \"semantic_type\": \"\",\n        \"description\": \"\"\n      }\n    }\n  ]\n}"
            }
          },
          "metadata": {},
          "execution_count": 7
        }
      ]
    },
    {
      "cell_type": "code",
      "source": [
        "df.describe()"
      ],
      "metadata": {
        "colab": {
          "base_uri": "https://localhost:8080/"
        },
        "id": "ousxQXdwxTyV",
        "outputId": "b2363a8d-2ed5-4f10-b41f-9fe4014491cd"
      },
      "execution_count": null,
      "outputs": [
        {
          "output_type": "execute_result",
          "data": {
            "text/plain": [
              "              Open         High          Low        Close    Adj Close  \\\n",
              "count  1919.000000  1919.000000  1919.000000  1919.000000  1919.000000   \n",
              "mean   1578.173365  1621.736998  1531.064829  1579.864861  1579.864861   \n",
              "std    1204.808368  1239.284783  1166.013008  1204.977504  1204.977504   \n",
              "min     110.406784   116.021622    95.184303   110.605873   110.605873   \n",
              "25%     269.344742   276.112381   263.334518   269.457245   269.457245   \n",
              "50%    1619.697876  1652.113159  1573.305786  1622.505859  1622.505859   \n",
              "75%    2332.014160  2391.217407  2253.479858  2337.104004  2337.104004   \n",
              "max    4810.071289  4891.704590  4718.039062  4812.087402  4812.087402   \n",
              "\n",
              "             Volume  \n",
              "count  1.919000e+03  \n",
              "mean   1.476741e+10  \n",
              "std    9.776781e+09  \n",
              "min    2.081626e+09  \n",
              "25%    7.779271e+09  \n",
              "50%    1.246745e+10  \n",
              "75%    1.870802e+10  \n",
              "max    8.448291e+10  "
            ],
            "text/html": [
              "\n",
              "  <div id=\"df-f936cae3-fe87-4a62-bfc3-25ebf8657522\" class=\"colab-df-container\">\n",
              "    <div>\n",
              "<style scoped>\n",
              "    .dataframe tbody tr th:only-of-type {\n",
              "        vertical-align: middle;\n",
              "    }\n",
              "\n",
              "    .dataframe tbody tr th {\n",
              "        vertical-align: top;\n",
              "    }\n",
              "\n",
              "    .dataframe thead th {\n",
              "        text-align: right;\n",
              "    }\n",
              "</style>\n",
              "<table border=\"1\" class=\"dataframe\">\n",
              "  <thead>\n",
              "    <tr style=\"text-align: right;\">\n",
              "      <th></th>\n",
              "      <th>Open</th>\n",
              "      <th>High</th>\n",
              "      <th>Low</th>\n",
              "      <th>Close</th>\n",
              "      <th>Adj Close</th>\n",
              "      <th>Volume</th>\n",
              "    </tr>\n",
              "  </thead>\n",
              "  <tbody>\n",
              "    <tr>\n",
              "      <th>count</th>\n",
              "      <td>1919.000000</td>\n",
              "      <td>1919.000000</td>\n",
              "      <td>1919.000000</td>\n",
              "      <td>1919.000000</td>\n",
              "      <td>1919.000000</td>\n",
              "      <td>1.919000e+03</td>\n",
              "    </tr>\n",
              "    <tr>\n",
              "      <th>mean</th>\n",
              "      <td>1578.173365</td>\n",
              "      <td>1621.736998</td>\n",
              "      <td>1531.064829</td>\n",
              "      <td>1579.864861</td>\n",
              "      <td>1579.864861</td>\n",
              "      <td>1.476741e+10</td>\n",
              "    </tr>\n",
              "    <tr>\n",
              "      <th>std</th>\n",
              "      <td>1204.808368</td>\n",
              "      <td>1239.284783</td>\n",
              "      <td>1166.013008</td>\n",
              "      <td>1204.977504</td>\n",
              "      <td>1204.977504</td>\n",
              "      <td>9.776781e+09</td>\n",
              "    </tr>\n",
              "    <tr>\n",
              "      <th>min</th>\n",
              "      <td>110.406784</td>\n",
              "      <td>116.021622</td>\n",
              "      <td>95.184303</td>\n",
              "      <td>110.605873</td>\n",
              "      <td>110.605873</td>\n",
              "      <td>2.081626e+09</td>\n",
              "    </tr>\n",
              "    <tr>\n",
              "      <th>25%</th>\n",
              "      <td>269.344742</td>\n",
              "      <td>276.112381</td>\n",
              "      <td>263.334518</td>\n",
              "      <td>269.457245</td>\n",
              "      <td>269.457245</td>\n",
              "      <td>7.779271e+09</td>\n",
              "    </tr>\n",
              "    <tr>\n",
              "      <th>50%</th>\n",
              "      <td>1619.697876</td>\n",
              "      <td>1652.113159</td>\n",
              "      <td>1573.305786</td>\n",
              "      <td>1622.505859</td>\n",
              "      <td>1622.505859</td>\n",
              "      <td>1.246745e+10</td>\n",
              "    </tr>\n",
              "    <tr>\n",
              "      <th>75%</th>\n",
              "      <td>2332.014160</td>\n",
              "      <td>2391.217407</td>\n",
              "      <td>2253.479858</td>\n",
              "      <td>2337.104004</td>\n",
              "      <td>2337.104004</td>\n",
              "      <td>1.870802e+10</td>\n",
              "    </tr>\n",
              "    <tr>\n",
              "      <th>max</th>\n",
              "      <td>4810.071289</td>\n",
              "      <td>4891.704590</td>\n",
              "      <td>4718.039062</td>\n",
              "      <td>4812.087402</td>\n",
              "      <td>4812.087402</td>\n",
              "      <td>8.448291e+10</td>\n",
              "    </tr>\n",
              "  </tbody>\n",
              "</table>\n",
              "</div>\n",
              "    <div class=\"colab-df-buttons\">\n",
              "\n",
              "  <div class=\"colab-df-container\">\n",
              "    <button class=\"colab-df-convert\" onclick=\"convertToInteractive('df-f936cae3-fe87-4a62-bfc3-25ebf8657522')\"\n",
              "            title=\"Convert this dataframe to an interactive table.\"\n",
              "            style=\"display:none;\">\n",
              "\n",
              "  <svg xmlns=\"http://www.w3.org/2000/svg\" height=\"24px\" viewBox=\"0 -960 960 960\">\n",
              "    <path d=\"M120-120v-720h720v720H120Zm60-500h600v-160H180v160Zm220 220h160v-160H400v160Zm0 220h160v-160H400v160ZM180-400h160v-160H180v160Zm440 0h160v-160H620v160ZM180-180h160v-160H180v160Zm440 0h160v-160H620v160Z\"/>\n",
              "  </svg>\n",
              "    </button>\n",
              "\n",
              "  <style>\n",
              "    .colab-df-container {\n",
              "      display:flex;\n",
              "      gap: 12px;\n",
              "    }\n",
              "\n",
              "    .colab-df-convert {\n",
              "      background-color: #E8F0FE;\n",
              "      border: none;\n",
              "      border-radius: 50%;\n",
              "      cursor: pointer;\n",
              "      display: none;\n",
              "      fill: #1967D2;\n",
              "      height: 32px;\n",
              "      padding: 0 0 0 0;\n",
              "      width: 32px;\n",
              "    }\n",
              "\n",
              "    .colab-df-convert:hover {\n",
              "      background-color: #E2EBFA;\n",
              "      box-shadow: 0px 1px 2px rgba(60, 64, 67, 0.3), 0px 1px 3px 1px rgba(60, 64, 67, 0.15);\n",
              "      fill: #174EA6;\n",
              "    }\n",
              "\n",
              "    .colab-df-buttons div {\n",
              "      margin-bottom: 4px;\n",
              "    }\n",
              "\n",
              "    [theme=dark] .colab-df-convert {\n",
              "      background-color: #3B4455;\n",
              "      fill: #D2E3FC;\n",
              "    }\n",
              "\n",
              "    [theme=dark] .colab-df-convert:hover {\n",
              "      background-color: #434B5C;\n",
              "      box-shadow: 0px 1px 3px 1px rgba(0, 0, 0, 0.15);\n",
              "      filter: drop-shadow(0px 1px 2px rgba(0, 0, 0, 0.3));\n",
              "      fill: #FFFFFF;\n",
              "    }\n",
              "  </style>\n",
              "\n",
              "    <script>\n",
              "      const buttonEl =\n",
              "        document.querySelector('#df-f936cae3-fe87-4a62-bfc3-25ebf8657522 button.colab-df-convert');\n",
              "      buttonEl.style.display =\n",
              "        google.colab.kernel.accessAllowed ? 'block' : 'none';\n",
              "\n",
              "      async function convertToInteractive(key) {\n",
              "        const element = document.querySelector('#df-f936cae3-fe87-4a62-bfc3-25ebf8657522');\n",
              "        const dataTable =\n",
              "          await google.colab.kernel.invokeFunction('convertToInteractive',\n",
              "                                                    [key], {});\n",
              "        if (!dataTable) return;\n",
              "\n",
              "        const docLinkHtml = 'Like what you see? Visit the ' +\n",
              "          '<a target=\"_blank\" href=https://colab.research.google.com/notebooks/data_table.ipynb>data table notebook</a>'\n",
              "          + ' to learn more about interactive tables.';\n",
              "        element.innerHTML = '';\n",
              "        dataTable['output_type'] = 'display_data';\n",
              "        await google.colab.output.renderOutput(dataTable, element);\n",
              "        const docLink = document.createElement('div');\n",
              "        docLink.innerHTML = docLinkHtml;\n",
              "        element.appendChild(docLink);\n",
              "      }\n",
              "    </script>\n",
              "  </div>\n",
              "\n",
              "\n",
              "<div id=\"df-dae87da8-c03d-4437-a73a-121f35f0ae0e\">\n",
              "  <button class=\"colab-df-quickchart\" onclick=\"quickchart('df-dae87da8-c03d-4437-a73a-121f35f0ae0e')\"\n",
              "            title=\"Suggest charts\"\n",
              "            style=\"display:none;\">\n",
              "\n",
              "<svg xmlns=\"http://www.w3.org/2000/svg\" height=\"24px\"viewBox=\"0 0 24 24\"\n",
              "     width=\"24px\">\n",
              "    <g>\n",
              "        <path d=\"M19 3H5c-1.1 0-2 .9-2 2v14c0 1.1.9 2 2 2h14c1.1 0 2-.9 2-2V5c0-1.1-.9-2-2-2zM9 17H7v-7h2v7zm4 0h-2V7h2v10zm4 0h-2v-4h2v4z\"/>\n",
              "    </g>\n",
              "</svg>\n",
              "  </button>\n",
              "\n",
              "<style>\n",
              "  .colab-df-quickchart {\n",
              "      --bg-color: #E8F0FE;\n",
              "      --fill-color: #1967D2;\n",
              "      --hover-bg-color: #E2EBFA;\n",
              "      --hover-fill-color: #174EA6;\n",
              "      --disabled-fill-color: #AAA;\n",
              "      --disabled-bg-color: #DDD;\n",
              "  }\n",
              "\n",
              "  [theme=dark] .colab-df-quickchart {\n",
              "      --bg-color: #3B4455;\n",
              "      --fill-color: #D2E3FC;\n",
              "      --hover-bg-color: #434B5C;\n",
              "      --hover-fill-color: #FFFFFF;\n",
              "      --disabled-bg-color: #3B4455;\n",
              "      --disabled-fill-color: #666;\n",
              "  }\n",
              "\n",
              "  .colab-df-quickchart {\n",
              "    background-color: var(--bg-color);\n",
              "    border: none;\n",
              "    border-radius: 50%;\n",
              "    cursor: pointer;\n",
              "    display: none;\n",
              "    fill: var(--fill-color);\n",
              "    height: 32px;\n",
              "    padding: 0;\n",
              "    width: 32px;\n",
              "  }\n",
              "\n",
              "  .colab-df-quickchart:hover {\n",
              "    background-color: var(--hover-bg-color);\n",
              "    box-shadow: 0 1px 2px rgba(60, 64, 67, 0.3), 0 1px 3px 1px rgba(60, 64, 67, 0.15);\n",
              "    fill: var(--button-hover-fill-color);\n",
              "  }\n",
              "\n",
              "  .colab-df-quickchart-complete:disabled,\n",
              "  .colab-df-quickchart-complete:disabled:hover {\n",
              "    background-color: var(--disabled-bg-color);\n",
              "    fill: var(--disabled-fill-color);\n",
              "    box-shadow: none;\n",
              "  }\n",
              "\n",
              "  .colab-df-spinner {\n",
              "    border: 2px solid var(--fill-color);\n",
              "    border-color: transparent;\n",
              "    border-bottom-color: var(--fill-color);\n",
              "    animation:\n",
              "      spin 1s steps(1) infinite;\n",
              "  }\n",
              "\n",
              "  @keyframes spin {\n",
              "    0% {\n",
              "      border-color: transparent;\n",
              "      border-bottom-color: var(--fill-color);\n",
              "      border-left-color: var(--fill-color);\n",
              "    }\n",
              "    20% {\n",
              "      border-color: transparent;\n",
              "      border-left-color: var(--fill-color);\n",
              "      border-top-color: var(--fill-color);\n",
              "    }\n",
              "    30% {\n",
              "      border-color: transparent;\n",
              "      border-left-color: var(--fill-color);\n",
              "      border-top-color: var(--fill-color);\n",
              "      border-right-color: var(--fill-color);\n",
              "    }\n",
              "    40% {\n",
              "      border-color: transparent;\n",
              "      border-right-color: var(--fill-color);\n",
              "      border-top-color: var(--fill-color);\n",
              "    }\n",
              "    60% {\n",
              "      border-color: transparent;\n",
              "      border-right-color: var(--fill-color);\n",
              "    }\n",
              "    80% {\n",
              "      border-color: transparent;\n",
              "      border-right-color: var(--fill-color);\n",
              "      border-bottom-color: var(--fill-color);\n",
              "    }\n",
              "    90% {\n",
              "      border-color: transparent;\n",
              "      border-bottom-color: var(--fill-color);\n",
              "    }\n",
              "  }\n",
              "</style>\n",
              "\n",
              "  <script>\n",
              "    async function quickchart(key) {\n",
              "      const quickchartButtonEl =\n",
              "        document.querySelector('#' + key + ' button');\n",
              "      quickchartButtonEl.disabled = true;  // To prevent multiple clicks.\n",
              "      quickchartButtonEl.classList.add('colab-df-spinner');\n",
              "      try {\n",
              "        const charts = await google.colab.kernel.invokeFunction(\n",
              "            'suggestCharts', [key], {});\n",
              "      } catch (error) {\n",
              "        console.error('Error during call to suggestCharts:', error);\n",
              "      }\n",
              "      quickchartButtonEl.classList.remove('colab-df-spinner');\n",
              "      quickchartButtonEl.classList.add('colab-df-quickchart-complete');\n",
              "    }\n",
              "    (() => {\n",
              "      let quickchartButtonEl =\n",
              "        document.querySelector('#df-dae87da8-c03d-4437-a73a-121f35f0ae0e button');\n",
              "      quickchartButtonEl.style.display =\n",
              "        google.colab.kernel.accessAllowed ? 'block' : 'none';\n",
              "    })();\n",
              "  </script>\n",
              "</div>\n",
              "\n",
              "    </div>\n",
              "  </div>\n"
            ],
            "application/vnd.google.colaboratory.intrinsic+json": {
              "type": "dataframe",
              "summary": "{\n  \"name\": \"df3\",\n  \"rows\": 8,\n  \"fields\": [\n    {\n      \"column\": \"Open\",\n      \"properties\": {\n        \"dtype\": \"number\",\n        \"std\": 1461.5363615616425,\n        \"min\": 110.4067840576172,\n        \"max\": 4810.0712890625,\n        \"num_unique_values\": 8,\n        \"samples\": [\n          1578.1733652167547,\n          1619.6978759765625,\n          1919.0\n        ],\n        \"semantic_type\": \"\",\n        \"description\": \"\"\n      }\n    },\n    {\n      \"column\": \"High\",\n      \"properties\": {\n        \"dtype\": \"number\",\n        \"std\": 1485.0534177390089,\n        \"min\": 116.02162170410156,\n        \"max\": 4891.70458984375,\n        \"num_unique_values\": 8,\n        \"samples\": [\n          1621.7369975755462,\n          1652.1131591796875,\n          1919.0\n        ],\n        \"semantic_type\": \"\",\n        \"description\": \"\"\n      }\n    },\n    {\n      \"column\": \"Low\",\n      \"properties\": {\n        \"dtype\": \"number\",\n        \"std\": 1435.8284254747352,\n        \"min\": 95.1843032836914,\n        \"max\": 4718.0390625,\n        \"num_unique_values\": 8,\n        \"samples\": [\n          1531.0648292195617,\n          1573.3057861328125,\n          1919.0\n        ],\n        \"semantic_type\": \"\",\n        \"description\": \"\"\n      }\n    },\n    {\n      \"column\": \"Close\",\n      \"properties\": {\n        \"dtype\": \"number\",\n        \"std\": 1462.331565185259,\n        \"min\": 110.60587310791016,\n        \"max\": 4812.08740234375,\n        \"num_unique_values\": 8,\n        \"samples\": [\n          1579.8648606459878,\n          1622.505859375,\n          1919.0\n        ],\n        \"semantic_type\": \"\",\n        \"description\": \"\"\n      }\n    },\n    {\n      \"column\": \"Adj Close\",\n      \"properties\": {\n        \"dtype\": \"number\",\n        \"std\": 1462.331565185259,\n        \"min\": 110.60587310791016,\n        \"max\": 4812.08740234375,\n        \"num_unique_values\": 8,\n        \"samples\": [\n          1579.8648606459878,\n          1622.505859375,\n          1919.0\n        ],\n        \"semantic_type\": \"\",\n        \"description\": \"\"\n      }\n    },\n    {\n      \"column\": \"Volume\",\n      \"properties\": {\n        \"dtype\": \"number\",\n        \"std\": 27272228951.889484,\n        \"min\": 1919.0,\n        \"max\": 84482912776.0,\n        \"num_unique_values\": 8,\n        \"samples\": [\n          14767407900.029703,\n          12467445117.0,\n          1919.0\n        ],\n        \"semantic_type\": \"\",\n        \"description\": \"\"\n      }\n    }\n  ]\n}"
            }
          },
          "metadata": {},
          "execution_count": 8
        }
      ]
    },
    {
      "cell_type": "markdown",
      "source": [
        "##ETH"
      ],
      "metadata": {
        "id": "eJEuVvgM0Jfr"
      }
    },
    {
      "cell_type": "code",
      "source": [
        "sns.boxplot(x=df['Close'], color=\"#43C466\")\n",
        "\n",
        "# Add a title to the plot\n",
        "plt.title(\"Boxplot of ETH\")\n",
        "plt.xlabel(\"Close Price\")\n",
        "# Display the plot\n",
        "plt.show()"
      ],
      "metadata": {
        "colab": {
          "base_uri": "https://localhost:8080/",
          "height": 472
        },
        "id": "8R0NexoBz_xs",
        "outputId": "c84b8ee3-1ae8-442c-e633-913081d72e5e"
      },
      "execution_count": null,
      "outputs": [
        {
          "output_type": "display_data",
          "data": {
            "text/plain": [
              "<Figure size 640x480 with 1 Axes>"
            ],
            "image/png": "[encoded data removed]"
          },
          "metadata": {}
        }
      ]
    },
    {
      "cell_type": "code",
      "source": [
        "sns.histplot(df['Close'], color=\"#43C466\", kde=True)\n",
        "\n",
        "# Add a title to the plot\n",
        "plt.title(\"Histogram of ETH\")\n",
        "plt.xlabel(\"Close Price\")\n",
        "plt.ylabel(\"Frequency\")\n",
        "# Display the plot\n",
        "plt.show()"
      ],
      "metadata": {
        "colab": {
          "base_uri": "https://localhost:8080/",
          "height": 472
        },
        "id": "B2oYvKhf2HZ7",
        "outputId": "3844455e-1e37-44ef-d544-2a6ab974b303"
      },
      "execution_count": null,
      "outputs": [
        {
          "output_type": "display_data",
          "data": {
            "text/plain": [
              "<Figure size 640x480 with 1 Axes>"
            ],
            "image/png": "[encoded data removed]"
          },
          "metadata": {}
        }
      ]
    },
    {
      "cell_type": "markdown",
      "source": [
        "## BNB"
      ],
      "metadata": {
        "id": "ZkkU1erQ4ADQ"
      }
    },
    {
      "cell_type": "code",
      "source": [
        "sns.boxplot(x=df1['Close'], color=\"#43C466\")\n",
        "\n",
        "# Add a title to the plot\n",
        "plt.title(\"Boxplot of BNB\")\n",
        "plt.xlabel(\"Close Price\")\n",
        "# Display the plot\n",
        "plt.show()"
      ],
      "metadata": {
        "colab": {
          "base_uri": "https://localhost:8080/",
          "height": 472
        },
        "id": "O8N9hrj533Jd",
        "outputId": "ff78f450-7733-4e95-9888-64b38da5abb9"
      },
      "execution_count": null,
      "outputs": [
        {
          "output_type": "display_data",
          "data": {
            "text/plain": [
              "<Figure size 640x480 with 1 Axes>"
            ],
            "image/png": "[encoded data removed]"
          },
          "metadata": {}
        }
      ]
    },
    {
      "cell_type": "code",
      "source": [
        "sns.histplot(df1['Close'], color=\"#43C466\", kde=True)\n",
        "\n",
        "# Add a title to the plot\n",
        "plt.title(\"Histogram of BNB\")\n",
        "plt.xlabel(\"Close Price\")\n",
        "plt.ylabel(\"Frequency\")\n",
        "# Display the plot\n",
        "plt.show()"
      ],
      "metadata": {
        "colab": {
          "base_uri": "https://localhost:8080/",
          "height": 472
        },
        "id": "svaaLrW04Mj4",
        "outputId": "568cb3d5-7635-4b47-eab9-ba38bfb69bcf"
      },
      "execution_count": null,
      "outputs": [
        {
          "output_type": "display_data",
          "data": {
            "text/plain": [
              "<Figure size 640x480 with 1 Axes>"
            ],
            "image/png": "[encoded data removed]"
          },
          "metadata": {}
        }
      ]
    },
    {
      "cell_type": "markdown",
      "source": [
        "## BTC"
      ],
      "metadata": {
        "id": "11Dd3_UP4B6p"
      }
    },
    {
      "cell_type": "code",
      "source": [
        "sns.boxplot(x=df2['Close'], color=\"#43C466\")\n",
        "\n",
        "# Add a title to the plot\n",
        "plt.title(\"Boxplot of BTC\")\n",
        "plt.xlabel(\"Close Price\")\n",
        "# Display the plot\n",
        "plt.show()"
      ],
      "metadata": {
        "colab": {
          "base_uri": "https://localhost:8080/",
          "height": 472
        },
        "id": "gdpoOC1O4CvZ",
        "outputId": "d881a3ed-4cfd-4c60-f7e3-e14ab6e3b845"
      },
      "execution_count": null,
      "outputs": [
        {
          "output_type": "display_data",
          "data": {
            "text/plain": [
              "<Figure size 640x480 with 1 Axes>"
            ],
            "image/png": "[encoded data removed]"
          },
          "metadata": {}
        }
      ]
    },
    {
      "cell_type": "code",
      "source": [
        "sns.histplot(df2['Close'], color=\"#43C466\", kde=True)\n",
        "\n",
        "# Add a title to the plot\n",
        "plt.title(\"Histogram of BTC\")\n",
        "plt.xlabel(\"Close Price\")\n",
        "plt.ylabel(\"Frequency\")\n",
        "# Display the plot\n",
        "plt.show()"
      ],
      "metadata": {
        "colab": {
          "base_uri": "https://localhost:8080/",
          "height": 472
        },
        "id": "7KAWONB54Nnp",
        "outputId": "68896194-5acb-44b4-8a5f-1bcedbfb0e8a"
      },
      "execution_count": null,
      "outputs": [
        {
          "output_type": "display_data",
          "data": {
            "text/plain": [
              "<Figure size 640x480 with 1 Axes>"
            ],
            "image/png": "[encoded data removed]"
          },
          "metadata": {}
        }
      ]
    },
    {
      "cell_type": "markdown",
      "source": [
        "## Khác"
      ],
      "metadata": {
        "id": "X_VWoulj4Okw"
      }
    },
    {
      "cell_type": "code",
      "source": [
        "total = df.isnull().sum().sort_values(ascending=False)\n",
        "percent_1 = df.isnull().sum()/df.isnull().count()*100\n",
        "# round: lay sau dau , 1 don vi\n",
        "percent_2 = (round(percent_1, 1)).sort_values(ascending=False)\n",
        "missing_data = pd.concat([total, percent_2], axis=1, keys=['Total', '%'])\n",
        "top_missing_values = missing_data.head(5)\n",
        "# In kết quả\n",
        "print(\"🍄🍄🍄\" , top_missing_values)\n",
        "print(\"-------------------------------------------\")"
      ],
      "metadata": {
        "id": "zaZMmjKGKa_Z",
        "outputId": "05e69d50-3b1d-4b70-e79e-e5dd7f58eb2d",
        "colab": {
          "base_uri": "https://localhost:8080/"
        }
      },
      "execution_count": null,
      "outputs": [
        {
          "output_type": "stream",
          "name": "stdout",
          "text": [
            "🍄🍄🍄        Total    %\n",
            "Date       0  0.0\n",
            "Open       0  0.0\n",
            "High       0  0.0\n",
            "Low        0  0.0\n",
            "Close      0  0.0\n",
            "-------------------------------------------\n"
          ]
        }
      ]
    },
    {
      "cell_type": "markdown",
      "source": [
        "**There are no any missing data --> There is no need to handling missing data**"
      ],
      "metadata": {
        "id": "lpYa-aM2QYJ6"
      }
    },
    {
      "cell_type": "markdown",
      "source": [],
      "metadata": {
        "id": "CZbPDZ1lQh47"
      }
    },
    {
      "cell_type": "markdown",
      "source": [
        "### Processing outliers"
      ],
      "metadata": {
        "id": "DfAQCmvjUXov"
      }
    },
    {
      "cell_type": "markdown",
      "source": [
        "#### Box plot"
      ],
      "metadata": {
        "id": "iUlkYT3YnnPD"
      }
    },
    {
      "cell_type": "code",
      "source": [
        "sns.boxplot(df.Close)"
      ],
      "metadata": {
        "id": "ouA1nehnPtYK",
        "outputId": "68043944-e5e3-43f1-b112-1a8f07721644",
        "colab": {
          "base_uri": "https://localhost:8080/",
          "height": 431
        }
      },
      "execution_count": null,
      "outputs": [
        {
          "output_type": "execute_result",
          "data": {
            "text/plain": [
              "<Axes: ylabel='Close'>"
            ]
          },
          "metadata": {},
          "execution_count": 8
        },
        {
          "output_type": "display_data",
          "data": {
            "text/plain": [
              "<Figure size 640x480 with 1 Axes>"
            ],
            "image/png": "[encoded data removed]"
          },
          "metadata": {}
        }
      ]
    },
    {
      "cell_type": "code",
      "source": [
        "sns.boxplot(df.High)"
      ],
      "metadata": {
        "colab": {
          "base_uri": "https://localhost:8080/",
          "height": 429
        },
        "id": "b-o-DCfjnePn",
        "outputId": "ae4c9101-4b5f-410c-c3d9-e626df380cc2"
      },
      "execution_count": null,
      "outputs": [
        {
          "output_type": "execute_result",
          "data": {
            "text/plain": [
              "<Axes: ylabel='High'>"
            ]
          },
          "metadata": {},
          "execution_count": 9
        },
        {
          "output_type": "display_data",
          "data": {
            "text/plain": [
              "<Figure size 640x480 with 1 Axes>"
            ],
            "image/png": "[encoded data removed]"
          },
          "metadata": {}
        }
      ]
    },
    {
      "cell_type": "code",
      "source": [
        "sns.boxplot(df.Low)"
      ],
      "metadata": {
        "id": "Lqd9AKyUnuto",
        "outputId": "7c770667-f987-47ef-c49d-80804ca4d42f",
        "colab": {
          "base_uri": "https://localhost:8080/",
          "height": 429
        }
      },
      "execution_count": null,
      "outputs": [
        {
          "output_type": "execute_result",
          "data": {
            "text/plain": [
              "<Axes: ylabel='Low'>"
            ]
          },
          "metadata": {},
          "execution_count": 10
        },
        {
          "output_type": "display_data",
          "data": {
            "text/plain": [
              "<Figure size 640x480 with 1 Axes>"
            ],
            "image/png": "[encoded data removed]"
          },
          "metadata": {}
        }
      ]
    },
    {
      "cell_type": "markdown",
      "source": [
        "#### Using Z_score"
      ],
      "metadata": {
        "id": "puaDMPrTUeIa"
      }
    },
    {
      "cell_type": "code",
      "source": [
        "def remove_outliers(df, column_name):\n",
        "    Q1 = np.percentile(df[column_name], 25, method='midpoint')\n",
        "    Q3 = np.percentile(df[column_name], 75, method='midpoint')\n",
        "    IQR = Q3 - Q1\n",
        "\n",
        "    upper = Q3 + 1.5 * IQR\n",
        "    lower = Q1 - 1.5 * IQR\n",
        "    # upper\n",
        "    upper_array = np.array(df[column_name] >= upper)\n",
        "    print(\"🎃🎃🎃🎃 Upper Bound:\", upper)\n",
        "    print(\"🍓🍋 Upper number\", upper_array.sum())\n",
        "    # lower\n",
        "    lower_array = np.array(df[column_name] <= lower)\n",
        "    print(\"🙏🙏🙏🙏 Lower Bound:\", lower)\n",
        "    print(\"🍐🍈 Lower number\", lower_array.sum())\n",
        "\n",
        "    upper_indices = np.where(df[column_name] >= upper)[0]\n",
        "    lower_indices = np.where(df[column_name] <= lower)[0]\n",
        "\n",
        "    # Chỉ lấy các chỉ mục tồn tại trong DataFrame\n",
        "    upper_indices = np.intersect1d(upper_indices, df.index)\n",
        "    lower_indices = np.intersect1d(lower_indices, df.index)\n",
        "\n",
        "    df.drop(index = upper_indices, inplace=True)\n",
        "    df.drop(index = lower_indices, inplace=True)"
      ],
      "metadata": {
        "id": "TaIV-S3MgN7s"
      },
      "execution_count": null,
      "outputs": []
    },
    {
      "cell_type": "code",
      "source": [
        "remove_outliers(df, 'Close')"
      ],
      "metadata": {
        "colab": {
          "base_uri": "https://localhost:8080/"
        },
        "id": "rcRiwNe5hTIP",
        "outputId": "14a9b34b-0117-4469-dbb8-6075753f13f8"
      },
      "execution_count": null,
      "outputs": [
        {
          "output_type": "stream",
          "name": "stdout",
          "text": [
            "🎃🎃🎃🎃 Upper Bound: 5438.574142456055\n",
            "🍓🍋 Upper number 0\n",
            "🙏🙏🙏🙏 Lower Bound: -2832.012893676758\n",
            "🍐🍈 Lower number 0\n"
          ]
        }
      ]
    },
    {
      "cell_type": "code",
      "source": [
        "remove_outliers(df, 'High')"
      ],
      "metadata": {
        "colab": {
          "base_uri": "https://localhost:8080/"
        },
        "id": "N9ucFyXthhNl",
        "outputId": "172978fa-172e-4ee0-b4fc-a564a0736e90"
      },
      "execution_count": null,
      "outputs": [
        {
          "output_type": "stream",
          "name": "stdout",
          "text": [
            "🎃🎃🎃🎃 Upper Bound: 5563.874946594238\n",
            "🍓🍋 Upper number 0\n",
            "🙏🙏🙏🙏 Lower Bound: -2896.5451583862305\n",
            "🍐🍈 Lower number 0\n"
          ]
        }
      ]
    },
    {
      "cell_type": "code",
      "source": [
        "remove_outliers(df, 'Open')"
      ],
      "metadata": {
        "colab": {
          "base_uri": "https://localhost:8080/"
        },
        "id": "AfI5JA6AlTqF",
        "outputId": "93a32ac1-6c83-4b82-b9f1-260f28fe8173"
      },
      "execution_count": null,
      "outputs": [
        {
          "output_type": "stream",
          "name": "stdout",
          "text": [
            "🎃🎃🎃🎃 Upper Bound: 5426.018287658691\n",
            "🍓🍋 Upper number 0\n",
            "🙏🙏🙏🙏 Lower Bound: -2824.6593856811523\n",
            "🍐🍈 Lower number 0\n"
          ]
        }
      ]
    },
    {
      "cell_type": "code",
      "source": [
        "remove_outliers(df, 'Adj Close')"
      ],
      "metadata": {
        "colab": {
          "base_uri": "https://localhost:8080/"
        },
        "id": "VObh_UjKmZa5",
        "outputId": "36b7ddb3-d764-4598-8562-3990932ef649"
      },
      "execution_count": null,
      "outputs": [
        {
          "output_type": "stream",
          "name": "stdout",
          "text": [
            "🎃🎃🎃🎃 Upper Bound: 5438.574142456055\n",
            "🍓🍋 Upper number 0\n",
            "🙏🙏🙏🙏 Lower Bound: -2832.012893676758\n",
            "🍐🍈 Lower number 0\n"
          ]
        }
      ]
    },
    {
      "cell_type": "code",
      "source": [
        "df.info()"
      ],
      "metadata": {
        "colab": {
          "base_uri": "https://localhost:8080/"
        },
        "id": "Dc3MO7tChbQh",
        "outputId": "33c71433-b3c1-4fd1-9a25-82afa6eb6803"
      },
      "execution_count": null,
      "outputs": [
        {
          "output_type": "stream",
          "name": "stdout",
          "text": [
            "<class 'pandas.core.frame.DataFrame'>\n",
            "RangeIndex: 1919 entries, 0 to 1918\n",
            "Data columns (total 7 columns):\n",
            " #   Column     Non-Null Count  Dtype  \n",
            "---  ------     --------------  -----  \n",
            " 0   Date       1919 non-null   object \n",
            " 1   Open       1919 non-null   float64\n",
            " 2   High       1919 non-null   float64\n",
            " 3   Low        1919 non-null   float64\n",
            " 4   Close      1919 non-null   float64\n",
            " 5   Adj Close  1919 non-null   float64\n",
            " 6   Volume     1919 non-null   int64  \n",
            "dtypes: float64(5), int64(1), object(1)\n",
            "memory usage: 105.1+ KB\n"
          ]
        }
      ]
    },
    {
      "cell_type": "code",
      "source": [
        "sns.boxplot(df.Close)"
      ],
      "metadata": {
        "id": "aBRciTltVtjO",
        "outputId": "9ef8dedc-ec4d-4e4f-ee40-7872be98f8c6",
        "colab": {
          "base_uri": "https://localhost:8080/",
          "height": 431
        }
      },
      "execution_count": null,
      "outputs": [
        {
          "output_type": "execute_result",
          "data": {
            "text/plain": [
              "<Axes: ylabel='Close'>"
            ]
          },
          "metadata": {},
          "execution_count": 12
        },
        {
          "output_type": "display_data",
          "data": {
            "text/plain": [
              "<Figure size 640x480 with 1 Axes>"
            ],
            "image/png": "[encoded data removed]"
          },
          "metadata": {}
        }
      ]
    },
    {
      "cell_type": "code",
      "source": [
        "sns.boxplot(df.High)"
      ],
      "metadata": {
        "colab": {
          "base_uri": "https://localhost:8080/",
          "height": 429
        },
        "id": "9KL9yPM8noFg",
        "outputId": "d246a060-6b16-497d-fd49-2744eb7da7ff"
      },
      "execution_count": null,
      "outputs": [
        {
          "output_type": "execute_result",
          "data": {
            "text/plain": [
              "<Axes: ylabel='High'>"
            ]
          },
          "metadata": {},
          "execution_count": 11
        },
        {
          "output_type": "display_data",
          "data": {
            "text/plain": [
              "<Figure size 640x480 with 1 Axes>"
            ],
            "image/png": "[encoded data removed]"
          },
          "metadata": {}
        }
      ]
    },
    {
      "cell_type": "markdown",
      "source": [
        "** 🍷🍷🍷🍷 There are no any outlier values**"
      ],
      "metadata": {
        "id": "uEj8EZ51VwRB"
      }
    },
    {
      "cell_type": "code",
      "source": [
        "df.to_excel(os.path.join(prj_path, 'processed_data/processed_data.xlsx'), index=False)"
      ],
      "metadata": {
        "id": "jsGQVdTJYTNF"
      },
      "execution_count": null,
      "outputs": []
    },
    {
      "cell_type": "code",
      "source": [],
      "metadata": {
        "id": "cOmCbKqqYWoW"
      },
      "execution_count": null,
      "outputs": []
    },
    {
      "cell_type": "markdown",
      "source": [
        "### Stationary"
      ],
      "metadata": {
        "id": "P4Wh8psrEjT2"
      }
    },
    {
      "cell_type": "code",
      "source": [
        "df_selected = df[['Open', 'High', 'Low', 'Close', 'Adj Close']]"
      ],
      "metadata": {
        "id": "8FngqIPSGd-_"
      },
      "execution_count": null,
      "outputs": []
    },
    {
      "cell_type": "code",
      "source": [
        "def adf_test(timeseries):\n",
        "  timeseries.replace([np.inf, -np.inf], np.nan, inplace=True)\n",
        "  timeseries.dropna(inplace=True)\n",
        "  result = adfuller(timeseries, autolag='AIC')\n",
        "\n",
        "  print('ADF Statistic:', result[0])\n",
        "  print('p-value:', result[1])\n",
        "  print('Critical Values:', result[4])\n",
        "\n",
        "  # Check the p-value\n",
        "  if result[1] <= 0.05:\n",
        "    print(\"Reject the null hypothesis. Data is stationary.\")\n",
        "  else:\n",
        "    print(\"Fail to reject the null hypothesis. Data is non-stationary.\")\n",
        "\n",
        "# Test the stationarity of the data\n",
        "for column in df_selected.columns:\n",
        "    print(f\"\\nADF Test for column: {column}\")\n",
        "    adf_test(df[column])"
      ],
      "metadata": {
        "colab": {
          "base_uri": "https://localhost:8080/"
        },
        "id": "ArA8_StnEi4X",
        "outputId": "d5e587d1-a271-4791-eb54-7a1e42c63511"
      },
      "execution_count": null,
      "outputs": [
        {
          "output_type": "stream",
          "name": "stdout",
          "text": [
            "\n",
            "ADF Test for column: Open\n",
            "ADF Statistic: -0.9008023453170341\n",
            "p-value: 0.7877080790036302\n",
            "Critical Values: {'1%': -3.433317781310122, '5%': -2.8628510732269983, '10%': -2.56746794802603}\n",
            "Fail to reject the null hypothesis. Data is non-stationary.\n",
            "\n",
            "ADF Test for column: High\n",
            "ADF Statistic: -1.0384584378987405\n",
            "p-value: 0.7389804023449064\n",
            "Critical Values: {'1%': -3.433327239607306, '5%': -2.8628552495229194, '10%': -2.5674701716229276}\n",
            "Fail to reject the null hypothesis. Data is non-stationary.\n",
            "\n",
            "ADF Test for column: Low\n",
            "ADF Statistic: -0.7905854530397723\n",
            "p-value: 0.821871889117299\n",
            "Critical Values: {'1%': -3.4333204775429715, '5%': -2.8628522637456255, '10%': -2.5674685818969634}\n",
            "Fail to reject the null hypothesis. Data is non-stationary.\n",
            "\n",
            "ADF Test for column: Close\n",
            "ADF Statistic: -0.940498794662849\n",
            "p-value: 0.7743432889730413\n",
            "Critical Values: {'1%': -3.4333231786793434, '5%': -2.8628534564283212, '10%': -2.5674692169202964}\n",
            "Fail to reject the null hypothesis. Data is non-stationary.\n",
            "\n",
            "ADF Test for column: Adj Close\n",
            "ADF Statistic: -0.940498794662849\n",
            "p-value: 0.7743432889730413\n",
            "Critical Values: {'1%': -3.4333231786793434, '5%': -2.8628534564283212, '10%': -2.5674692169202964}\n",
            "Fail to reject the null hypothesis. Data is non-stationary.\n"
          ]
        }
      ]
    },
    {
      "cell_type": "markdown",
      "source": [
        "#### Lấy sai phân bậc 1"
      ],
      "metadata": {
        "id": "UH01-aZ2IPBo"
      }
    },
    {
      "cell_type": "code",
      "source": [
        "df_first_diff = df_selected.diff().dropna()\n",
        "\n",
        "# Kiểm tra tính dừng cho từng cột sau khi lấy sai phân\n",
        "for column in df_first_diff.columns:\n",
        "    print(f\"\\nADF Test for column: {column}\")\n",
        "    adf_test(df_first_diff[column])"
      ],
      "metadata": {
        "colab": {
          "base_uri": "https://localhost:8080/"
        },
        "id": "G2cTEbASIOmx",
        "outputId": "b1f38479-e3d4-4d24-d935-9e2da24763de"
      },
      "execution_count": null,
      "outputs": [
        {
          "output_type": "stream",
          "name": "stdout",
          "text": [
            "\n",
            "ADF Test for column: Open\n",
            "ADF Statistic: -8.028582943656755\n",
            "p-value: 1.986408914256462e-12\n",
            "Critical Values: {'1%': -3.4333285957162567, '5%': -2.8628558483095645, '10%': -2.5674704904367522}\n",
            "Reject the null hypothesis. Data is stationary.\n",
            "\n",
            "ADF Test for column: High\n",
            "ADF Statistic: -7.589395728808053\n",
            "p-value: 2.5551962683070528e-11\n",
            "Critical Values: {'1%': -3.4333285957162567, '5%': -2.8628558483095645, '10%': -2.5674704904367522}\n",
            "Reject the null hypothesis. Data is stationary.\n",
            "\n",
            "ADF Test for column: Low\n",
            "ADF Statistic: -10.907712138854063\n",
            "p-value: 1.1171470705423518e-19\n",
            "Critical Values: {'1%': -3.4333204775429715, '5%': -2.8628522637456255, '10%': -2.5674685818969634}\n",
            "Reject the null hypothesis. Data is stationary.\n",
            "\n",
            "ADF Test for column: Close\n",
            "ADF Statistic: -8.057435278300737\n",
            "p-value: 1.6777869135642934e-12\n",
            "Critical Values: {'1%': -3.4333285957162567, '5%': -2.8628558483095645, '10%': -2.5674704904367522}\n",
            "Reject the null hypothesis. Data is stationary.\n",
            "\n",
            "ADF Test for column: Adj Close\n",
            "ADF Statistic: -8.057435278300737\n",
            "p-value: 1.6777869135642934e-12\n",
            "Critical Values: {'1%': -3.4333285957162567, '5%': -2.8628558483095645, '10%': -2.5674704904367522}\n",
            "Reject the null hypothesis. Data is stationary.\n"
          ]
        }
      ]
    },
    {
      "cell_type": "code",
      "source": [
        "df_first_diff"
      ],
      "metadata": {
        "colab": {
          "base_uri": "https://localhost:8080/",
          "height": 423
        },
        "id": "PVH2FxqzTQha",
        "outputId": "1fdd83c5-9156-47df-cbfb-aac2588aca95"
      },
      "execution_count": null,
      "outputs": [
        {
          "output_type": "execute_result",
          "data": {
            "text/plain": [
              "            Open        High         Low       Close   Adj Close\n",
              "1      16.588989  132.299988   30.341980  111.802979  111.802979\n",
              "2     113.653992   59.640991   96.104980   78.276001   78.276001\n",
              "3      75.713013   70.608948   77.635010   18.202026   18.202026\n",
              "4      14.036987   30.310059   10.239014   16.797974   16.797974\n",
              "5      19.403992  -14.680054   38.296997   43.960083   43.960083\n",
              "...          ...         ...         ...         ...         ...\n",
              "2246   70.403809  114.233887   76.692383  120.311279  120.311279\n",
              "2247  120.162354   79.946045   53.561523   66.296387   66.296387\n",
              "2248   65.875977   90.583008  129.875977   65.525635   65.525635\n",
              "2249   65.488281  197.492920   33.745361  141.184570  141.184570\n",
              "2250  142.909424   33.518311  102.329346  -43.784180  -43.784180\n",
              "\n",
              "[2226 rows x 5 columns]"
            ],
            "text/html": [
              "\n",
              "  <div id=\"df-15d5e953-605a-4d9b-bcbc-4b1beb798c57\" class=\"colab-df-container\">\n",
              "    <div>\n",
              "<style scoped>\n",
              "    .dataframe tbody tr th:only-of-type {\n",
              "        vertical-align: middle;\n",
              "    }\n",
              "\n",
              "    .dataframe tbody tr th {\n",
              "        vertical-align: top;\n",
              "    }\n",
              "\n",
              "    .dataframe thead th {\n",
              "        text-align: right;\n",
              "    }\n",
              "</style>\n",
              "<table border=\"1\" class=\"dataframe\">\n",
              "  <thead>\n",
              "    <tr style=\"text-align: right;\">\n",
              "      <th></th>\n",
              "      <th>Open</th>\n",
              "      <th>High</th>\n",
              "      <th>Low</th>\n",
              "      <th>Close</th>\n",
              "      <th>Adj Close</th>\n",
              "    </tr>\n",
              "  </thead>\n",
              "  <tbody>\n",
              "    <tr>\n",
              "      <th>1</th>\n",
              "      <td>16.588989</td>\n",
              "      <td>132.299988</td>\n",
              "      <td>30.341980</td>\n",
              "      <td>111.802979</td>\n",
              "      <td>111.802979</td>\n",
              "    </tr>\n",
              "    <tr>\n",
              "      <th>2</th>\n",
              "      <td>113.653992</td>\n",
              "      <td>59.640991</td>\n",
              "      <td>96.104980</td>\n",
              "      <td>78.276001</td>\n",
              "      <td>78.276001</td>\n",
              "    </tr>\n",
              "    <tr>\n",
              "      <th>3</th>\n",
              "      <td>75.713013</td>\n",
              "      <td>70.608948</td>\n",
              "      <td>77.635010</td>\n",
              "      <td>18.202026</td>\n",
              "      <td>18.202026</td>\n",
              "    </tr>\n",
              "    <tr>\n",
              "      <th>4</th>\n",
              "      <td>14.036987</td>\n",
              "      <td>30.310059</td>\n",
              "      <td>10.239014</td>\n",
              "      <td>16.797974</td>\n",
              "      <td>16.797974</td>\n",
              "    </tr>\n",
              "    <tr>\n",
              "      <th>5</th>\n",
              "      <td>19.403992</td>\n",
              "      <td>-14.680054</td>\n",
              "      <td>38.296997</td>\n",
              "      <td>43.960083</td>\n",
              "      <td>43.960083</td>\n",
              "    </tr>\n",
              "    <tr>\n",
              "      <th>...</th>\n",
              "      <td>...</td>\n",
              "      <td>...</td>\n",
              "      <td>...</td>\n",
              "      <td>...</td>\n",
              "      <td>...</td>\n",
              "    </tr>\n",
              "    <tr>\n",
              "      <th>2246</th>\n",
              "      <td>70.403809</td>\n",
              "      <td>114.233887</td>\n",
              "      <td>76.692383</td>\n",
              "      <td>120.311279</td>\n",
              "      <td>120.311279</td>\n",
              "    </tr>\n",
              "    <tr>\n",
              "      <th>2247</th>\n",
              "      <td>120.162354</td>\n",
              "      <td>79.946045</td>\n",
              "      <td>53.561523</td>\n",
              "      <td>66.296387</td>\n",
              "      <td>66.296387</td>\n",
              "    </tr>\n",
              "    <tr>\n",
              "      <th>2248</th>\n",
              "      <td>65.875977</td>\n",
              "      <td>90.583008</td>\n",
              "      <td>129.875977</td>\n",
              "      <td>65.525635</td>\n",
              "      <td>65.525635</td>\n",
              "    </tr>\n",
              "    <tr>\n",
              "      <th>2249</th>\n",
              "      <td>65.488281</td>\n",
              "      <td>197.492920</td>\n",
              "      <td>33.745361</td>\n",
              "      <td>141.184570</td>\n",
              "      <td>141.184570</td>\n",
              "    </tr>\n",
              "    <tr>\n",
              "      <th>2250</th>\n",
              "      <td>142.909424</td>\n",
              "      <td>33.518311</td>\n",
              "      <td>102.329346</td>\n",
              "      <td>-43.784180</td>\n",
              "      <td>-43.784180</td>\n",
              "    </tr>\n",
              "  </tbody>\n",
              "</table>\n",
              "<p>2226 rows × 5 columns</p>\n",
              "</div>\n",
              "    <div class=\"colab-df-buttons\">\n",
              "\n",
              "  <div class=\"colab-df-container\">\n",
              "    <button class=\"colab-df-convert\" onclick=\"convertToInteractive('df-15d5e953-605a-4d9b-bcbc-4b1beb798c57')\"\n",
              "            title=\"Convert this dataframe to an interactive table.\"\n",
              "            style=\"display:none;\">\n",
              "\n",
              "  <svg xmlns=\"http://www.w3.org/2000/svg\" height=\"24px\" viewBox=\"0 -960 960 960\">\n",
              "    <path d=\"M120-120v-720h720v720H120Zm60-500h600v-160H180v160Zm220 220h160v-160H400v160Zm0 220h160v-160H400v160ZM180-400h160v-160H180v160Zm440 0h160v-160H620v160ZM180-180h160v-160H180v160Zm440 0h160v-160H620v160Z\"/>\n",
              "  </svg>\n",
              "    </button>\n",
              "\n",
              "  <style>\n",
              "    .colab-df-container {\n",
              "      display:flex;\n",
              "      gap: 12px;\n",
              "    }\n",
              "\n",
              "    .colab-df-convert {\n",
              "      background-color: #E8F0FE;\n",
              "      border: none;\n",
              "      border-radius: 50%;\n",
              "      cursor: pointer;\n",
              "      display: none;\n",
              "      fill: #1967D2;\n",
              "      height: 32px;\n",
              "      padding: 0 0 0 0;\n",
              "      width: 32px;\n",
              "    }\n",
              "\n",
              "    .colab-df-convert:hover {\n",
              "      background-color: #E2EBFA;\n",
              "      box-shadow: 0px 1px 2px rgba(60, 64, 67, 0.3), 0px 1px 3px 1px rgba(60, 64, 67, 0.15);\n",
              "      fill: #174EA6;\n",
              "    }\n",
              "\n",
              "    .colab-df-buttons div {\n",
              "      margin-bottom: 4px;\n",
              "    }\n",
              "\n",
              "    [theme=dark] .colab-df-convert {\n",
              "      background-color: #3B4455;\n",
              "      fill: #D2E3FC;\n",
              "    }\n",
              "\n",
              "    [theme=dark] .colab-df-convert:hover {\n",
              "      background-color: #434B5C;\n",
              "      box-shadow: 0px 1px 3px 1px rgba(0, 0, 0, 0.15);\n",
              "      filter: drop-shadow(0px 1px 2px rgba(0, 0, 0, 0.3));\n",
              "      fill: #FFFFFF;\n",
              "    }\n",
              "  </style>\n",
              "\n",
              "    <script>\n",
              "      const buttonEl =\n",
              "        document.querySelector('#df-15d5e953-605a-4d9b-bcbc-4b1beb798c57 button.colab-df-convert');\n",
              "      buttonEl.style.display =\n",
              "        google.colab.kernel.accessAllowed ? 'block' : 'none';\n",
              "\n",
              "      async function convertToInteractive(key) {\n",
              "        const element = document.querySelector('#df-15d5e953-605a-4d9b-bcbc-4b1beb798c57');\n",
              "        const dataTable =\n",
              "          await google.colab.kernel.invokeFunction('convertToInteractive',\n",
              "                                                    [key], {});\n",
              "        if (!dataTable) return;\n",
              "\n",
              "        const docLinkHtml = 'Like what you see? Visit the ' +\n",
              "          '<a target=\"_blank\" href=https://colab.research.google.com/notebooks/data_table.ipynb>data table notebook</a>'\n",
              "          + ' to learn more about interactive tables.';\n",
              "        element.innerHTML = '';\n",
              "        dataTable['output_type'] = 'display_data';\n",
              "        await google.colab.output.renderOutput(dataTable, element);\n",
              "        const docLink = document.createElement('div');\n",
              "        docLink.innerHTML = docLinkHtml;\n",
              "        element.appendChild(docLink);\n",
              "      }\n",
              "    </script>\n",
              "  </div>\n",
              "\n",
              "\n",
              "<div id=\"df-5272cf73-70f5-4c87-94a2-d37c269d11ba\">\n",
              "  <button class=\"colab-df-quickchart\" onclick=\"quickchart('df-5272cf73-70f5-4c87-94a2-d37c269d11ba')\"\n",
              "            title=\"Suggest charts\"\n",
              "            style=\"display:none;\">\n",
              "\n",
              "<svg xmlns=\"http://www.w3.org/2000/svg\" height=\"24px\"viewBox=\"0 0 24 24\"\n",
              "     width=\"24px\">\n",
              "    <g>\n",
              "        <path d=\"M19 3H5c-1.1 0-2 .9-2 2v14c0 1.1.9 2 2 2h14c1.1 0 2-.9 2-2V5c0-1.1-.9-2-2-2zM9 17H7v-7h2v7zm4 0h-2V7h2v10zm4 0h-2v-4h2v4z\"/>\n",
              "    </g>\n",
              "</svg>\n",
              "  </button>\n",
              "\n",
              "<style>\n",
              "  .colab-df-quickchart {\n",
              "      --bg-color: #E8F0FE;\n",
              "      --fill-color: #1967D2;\n",
              "      --hover-bg-color: #E2EBFA;\n",
              "      --hover-fill-color: #174EA6;\n",
              "      --disabled-fill-color: #AAA;\n",
              "      --disabled-bg-color: #DDD;\n",
              "  }\n",
              "\n",
              "  [theme=dark] .colab-df-quickchart {\n",
              "      --bg-color: #3B4455;\n",
              "      --fill-color: #D2E3FC;\n",
              "      --hover-bg-color: #434B5C;\n",
              "      --hover-fill-color: #FFFFFF;\n",
              "      --disabled-bg-color: #3B4455;\n",
              "      --disabled-fill-color: #666;\n",
              "  }\n",
              "\n",
              "  .colab-df-quickchart {\n",
              "    background-color: var(--bg-color);\n",
              "    border: none;\n",
              "    border-radius: 50%;\n",
              "    cursor: pointer;\n",
              "    display: none;\n",
              "    fill: var(--fill-color);\n",
              "    height: 32px;\n",
              "    padding: 0;\n",
              "    width: 32px;\n",
              "  }\n",
              "\n",
              "  .colab-df-quickchart:hover {\n",
              "    background-color: var(--hover-bg-color);\n",
              "    box-shadow: 0 1px 2px rgba(60, 64, 67, 0.3), 0 1px 3px 1px rgba(60, 64, 67, 0.15);\n",
              "    fill: var(--button-hover-fill-color);\n",
              "  }\n",
              "\n",
              "  .colab-df-quickchart-complete:disabled,\n",
              "  .colab-df-quickchart-complete:disabled:hover {\n",
              "    background-color: var(--disabled-bg-color);\n",
              "    fill: var(--disabled-fill-color);\n",
              "    box-shadow: none;\n",
              "  }\n",
              "\n",
              "  .colab-df-spinner {\n",
              "    border: 2px solid var(--fill-color);\n",
              "    border-color: transparent;\n",
              "    border-bottom-color: var(--fill-color);\n",
              "    animation:\n",
              "      spin 1s steps(1) infinite;\n",
              "  }\n",
              "\n",
              "  @keyframes spin {\n",
              "    0% {\n",
              "      border-color: transparent;\n",
              "      border-bottom-color: var(--fill-color);\n",
              "      border-left-color: var(--fill-color);\n",
              "    }\n",
              "    20% {\n",
              "      border-color: transparent;\n",
              "      border-left-color: var(--fill-color);\n",
              "      border-top-color: var(--fill-color);\n",
              "    }\n",
              "    30% {\n",
              "      border-color: transparent;\n",
              "      border-left-color: var(--fill-color);\n",
              "      border-top-color: var(--fill-color);\n",
              "      border-right-color: var(--fill-color);\n",
              "    }\n",
              "    40% {\n",
              "      border-color: transparent;\n",
              "      border-right-color: var(--fill-color);\n",
              "      border-top-color: var(--fill-color);\n",
              "    }\n",
              "    60% {\n",
              "      border-color: transparent;\n",
              "      border-right-color: var(--fill-color);\n",
              "    }\n",
              "    80% {\n",
              "      border-color: transparent;\n",
              "      border-right-color: var(--fill-color);\n",
              "      border-bottom-color: var(--fill-color);\n",
              "    }\n",
              "    90% {\n",
              "      border-color: transparent;\n",
              "      border-bottom-color: var(--fill-color);\n",
              "    }\n",
              "  }\n",
              "</style>\n",
              "\n",
              "  <script>\n",
              "    async function quickchart(key) {\n",
              "      const quickchartButtonEl =\n",
              "        document.querySelector('#' + key + ' button');\n",
              "      quickchartButtonEl.disabled = true;  // To prevent multiple clicks.\n",
              "      quickchartButtonEl.classList.add('colab-df-spinner');\n",
              "      try {\n",
              "        const charts = await google.colab.kernel.invokeFunction(\n",
              "            'suggestCharts', [key], {});\n",
              "      } catch (error) {\n",
              "        console.error('Error during call to suggestCharts:', error);\n",
              "      }\n",
              "      quickchartButtonEl.classList.remove('colab-df-spinner');\n",
              "      quickchartButtonEl.classList.add('colab-df-quickchart-complete');\n",
              "    }\n",
              "    (() => {\n",
              "      let quickchartButtonEl =\n",
              "        document.querySelector('#df-5272cf73-70f5-4c87-94a2-d37c269d11ba button');\n",
              "      quickchartButtonEl.style.display =\n",
              "        google.colab.kernel.accessAllowed ? 'block' : 'none';\n",
              "    })();\n",
              "  </script>\n",
              "</div>\n",
              "    </div>\n",
              "  </div>\n"
            ],
            "application/vnd.google.colaboratory.intrinsic+json": {
              "type": "dataframe",
              "variable_name": "df_first_diff",
              "summary": "{\n  \"name\": \"df_first_diff\",\n  \"rows\": 2226,\n  \"fields\": [\n    {\n      \"column\": \"Open\",\n      \"properties\": {\n        \"dtype\": \"number\",\n        \"std\": 75.45884508590431,\n        \"min\": -943.0185546875,\n        \"max\": 549.09716796875,\n        \"num_unique_values\": 2224,\n        \"samples\": [\n          15.363006591796875,\n          250.355712890625,\n          -7.484619140625\n        ],\n        \"semantic_type\": \"\",\n        \"description\": \"\"\n      }\n    },\n    {\n      \"column\": \"High\",\n      \"properties\": {\n        \"dtype\": \"number\",\n        \"std\": 62.42920141473546,\n        \"min\": -548.1474609375,\n        \"max\": 465.14599609375,\n        \"num_unique_values\": 2223,\n        \"samples\": [\n          9.531005859375,\n          -120.46875,\n          14.3197021484375\n        ],\n        \"semantic_type\": \"\",\n        \"description\": \"\"\n      }\n    },\n    {\n      \"column\": \"Low\",\n      \"properties\": {\n        \"dtype\": \"number\",\n        \"std\": 74.98632532813878,\n        \"min\": -1293.94384765625,\n        \"max\": 514.723388671875,\n        \"num_unique_values\": 2225,\n        \"samples\": [\n          -2.6263427734375,\n          1.09576416015625,\n          57.900146484375\n        ],\n        \"semantic_type\": \"\",\n        \"description\": \"\"\n      }\n    },\n    {\n      \"column\": \"Close\",\n      \"properties\": {\n        \"dtype\": \"number\",\n        \"std\": 73.97994651249877,\n        \"min\": -919.390869140625,\n        \"max\": 534.01123046875,\n        \"num_unique_values\": 2226,\n        \"samples\": [\n          8.95001220703125,\n          21.161590576171903,\n          -7.423583984375\n        ],\n        \"semantic_type\": \"\",\n        \"description\": \"\"\n      }\n    },\n    {\n      \"column\": \"Adj Close\",\n      \"properties\": {\n        \"dtype\": \"number\",\n        \"std\": 73.97994651249877,\n        \"min\": -919.390869140625,\n        \"max\": 534.01123046875,\n        \"num_unique_values\": 2226,\n        \"samples\": [\n          8.95001220703125,\n          21.161590576171903,\n          -7.423583984375\n        ],\n        \"semantic_type\": \"\",\n        \"description\": \"\"\n      }\n    }\n  ]\n}"
            }
          },
          "metadata": {},
          "execution_count": 22
        }
      ]
    },
    {
      "cell_type": "code",
      "source": [
        "data = df_first_diff.dropna()"
      ],
      "metadata": {
        "id": "KDx1QIlOh56M"
      },
      "execution_count": null,
      "outputs": []
    },
    {
      "cell_type": "code",
      "source": [
        "data.to_excel(os.path.join(prj_path, 'processed_data/processed_data.xlsx'), index=False)"
      ],
      "metadata": {
        "id": "QBGILOLLu_RB"
      },
      "execution_count": null,
      "outputs": []
    }
  ],
  "metadata": {
    "colab": {
      "provenance": []
    },
    "kernelspec": {
      "display_name": "Python 3",
      "name": "python3"
    }
  },
  "nbformat": 4,
  "nbformat_minor": 0
}