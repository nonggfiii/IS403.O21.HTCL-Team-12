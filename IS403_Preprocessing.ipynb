{
  "cells": [
    {
      "cell_type": "markdown",
      "source": [
        "# Preprocessing"
      ],
      "metadata": {
        "id": "qhD3wUJHsqFG"
      }
    },
    {
      "cell_type": "markdown",
      "source": [
        "#### Set up environment\n"
      ],
      "metadata": {
        "id": "4-ewutP4I3oq"
      }
    },
    {
      "cell_type": "code",
      "source": [
        "import pandas as pd\n",
        "import numpy as np\n",
        "import seaborn as sns\n",
        "from sklearn.preprocessing import MinMaxScaler\n",
        "import joblib\n",
        "import statistics\n",
        "import warnings\n",
        "warnings.filterwarnings('ignore')\n",
        "from matplotlib import pyplot as plt\n",
        "from sklearn.model_selection import train_test_split\n",
        "\n",
        "import matplotlib.pyplot as plt\n",
        "from sklearn.linear_model import LinearRegression\n",
        "from sklearn.metrics import mean_squared_error\n",
        "\n",
        "from statsmodels.graphics.tsaplots import plot_pacf\n",
        "from statsmodels.graphics.tsaplots import plot_acf\n",
        "from statsmodels.tsa.arima_process import ArmaProcess\n",
        "from statsmodels.stats.diagnostic import acorr_ljungbox\n",
        "from statsmodels.tsa.statespace. sarimax import SARIMAX\n",
        "from statsmodels.tsa.stattools import adfuller\n",
        "from statsmodels.tsa.stattools import pacf\n",
        "from statsmodels.tsa.stattools import acf\n",
        "from tqdm import tqdm_notebook\n",
        "from itertools import product\n",
        "import os\n",
        "%matplotlib inline"
      ],
      "metadata": {
        "id": "M8wlvCZDI4HS"
      },
      "execution_count": 1,
      "outputs": []
    },
    {
      "cell_type": "code",
      "source": [
        "from google.colab import drive\n",
        "drive.mount('/content/drive')"
      ],
      "metadata": {
        "id": "TV97LA7KJA2D",
        "outputId": "a0562824-016d-4fb8-b2d3-0fc244bf8ccd",
        "colab": {
          "base_uri": "https://localhost:8080/"
        }
      },
      "execution_count": 10,
      "outputs": [
        {
          "output_type": "stream",
          "name": "stdout",
          "text": [
            "Mounted at /content/drive\n"
          ]
        }
      ]
    },
    {
      "cell_type": "code",
      "source": [
        "prj_path = '/content/drive/My Drive/PTDLKD_IS403/'\n",
        "data_path = prj_path + \"dataset/\""
      ],
      "metadata": {
        "id": "OYZxg6V_JHfi"
      },
      "execution_count": 11,
      "outputs": []
    },
    {
      "cell_type": "code",
      "source": [
        "df = pd.read_csv('eth.csv')"
      ],
      "metadata": {
        "id": "abF4cdFNJW6i"
      },
      "execution_count": 2,
      "outputs": []
    },
    {
      "cell_type": "code",
      "source": [
        "df.describe()"
      ],
      "metadata": {
        "id": "eN_9D0IzJtxH",
        "outputId": "ab5dd37d-0e52-471d-b962-909ba97b2b58",
        "colab": {
          "base_uri": "https://localhost:8080/",
          "height": 300
        }
      },
      "execution_count": 5,
      "outputs": [
        {
          "output_type": "execute_result",
          "data": {
            "text/plain": [
              "              Open         High          Low        Close    Adj Close  \\\n",
              "count  2251.000000  2251.000000  2251.000000  2251.000000  2251.000000   \n",
              "mean   1288.871691  1325.217261  1249.135298  1289.824163  1289.824163   \n",
              "std    1130.755934  1163.211903  1094.879447  1131.127287  1131.127287   \n",
              "min      84.279694    85.342743    82.829887    84.308296    84.308296   \n",
              "25%     231.194458   236.223854   226.717903   231.044563   231.044563   \n",
              "50%    1171.443115  1213.128906  1111.780029  1182.359985  1182.359985   \n",
              "75%    1901.965698  1943.987915  1868.253174  1904.440002  1904.440002   \n",
              "max    4810.071289  4891.704590  4718.039062  4812.087402  4812.087402   \n",
              "\n",
              "             Volume  \n",
              "count  2.251000e+03  \n",
              "mean   1.231040e+10  \n",
              "std    1.007242e+10  \n",
              "min    9.484880e+08  \n",
              "25%    5.216390e+09  \n",
              "50%    9.724497e+09  \n",
              "75%    1.675596e+10  \n",
              "max    8.448291e+10  "
            ],
            "text/html": [
              "\n",
              "  <div id=\"df-41852a63-a0d4-49dc-ad71-8e3d7635cee6\" class=\"colab-df-container\">\n",
              "    <div>\n",
              "<style scoped>\n",
              "    .dataframe tbody tr th:only-of-type {\n",
              "        vertical-align: middle;\n",
              "    }\n",
              "\n",
              "    .dataframe tbody tr th {\n",
              "        vertical-align: top;\n",
              "    }\n",
              "\n",
              "    .dataframe thead th {\n",
              "        text-align: right;\n",
              "    }\n",
              "</style>\n",
              "<table border=\"1\" class=\"dataframe\">\n",
              "  <thead>\n",
              "    <tr style=\"text-align: right;\">\n",
              "      <th></th>\n",
              "      <th>Open</th>\n",
              "      <th>High</th>\n",
              "      <th>Low</th>\n",
              "      <th>Close</th>\n",
              "      <th>Adj Close</th>\n",
              "      <th>Volume</th>\n",
              "    </tr>\n",
              "  </thead>\n",
              "  <tbody>\n",
              "    <tr>\n",
              "      <th>count</th>\n",
              "      <td>2251.000000</td>\n",
              "      <td>2251.000000</td>\n",
              "      <td>2251.000000</td>\n",
              "      <td>2251.000000</td>\n",
              "      <td>2251.000000</td>\n",
              "      <td>2.251000e+03</td>\n",
              "    </tr>\n",
              "    <tr>\n",
              "      <th>mean</th>\n",
              "      <td>1288.871691</td>\n",
              "      <td>1325.217261</td>\n",
              "      <td>1249.135298</td>\n",
              "      <td>1289.824163</td>\n",
              "      <td>1289.824163</td>\n",
              "      <td>1.231040e+10</td>\n",
              "    </tr>\n",
              "    <tr>\n",
              "      <th>std</th>\n",
              "      <td>1130.755934</td>\n",
              "      <td>1163.211903</td>\n",
              "      <td>1094.879447</td>\n",
              "      <td>1131.127287</td>\n",
              "      <td>1131.127287</td>\n",
              "      <td>1.007242e+10</td>\n",
              "    </tr>\n",
              "    <tr>\n",
              "      <th>min</th>\n",
              "      <td>84.279694</td>\n",
              "      <td>85.342743</td>\n",
              "      <td>82.829887</td>\n",
              "      <td>84.308296</td>\n",
              "      <td>84.308296</td>\n",
              "      <td>9.484880e+08</td>\n",
              "    </tr>\n",
              "    <tr>\n",
              "      <th>25%</th>\n",
              "      <td>231.194458</td>\n",
              "      <td>236.223854</td>\n",
              "      <td>226.717903</td>\n",
              "      <td>231.044563</td>\n",
              "      <td>231.044563</td>\n",
              "      <td>5.216390e+09</td>\n",
              "    </tr>\n",
              "    <tr>\n",
              "      <th>50%</th>\n",
              "      <td>1171.443115</td>\n",
              "      <td>1213.128906</td>\n",
              "      <td>1111.780029</td>\n",
              "      <td>1182.359985</td>\n",
              "      <td>1182.359985</td>\n",
              "      <td>9.724497e+09</td>\n",
              "    </tr>\n",
              "    <tr>\n",
              "      <th>75%</th>\n",
              "      <td>1901.965698</td>\n",
              "      <td>1943.987915</td>\n",
              "      <td>1868.253174</td>\n",
              "      <td>1904.440002</td>\n",
              "      <td>1904.440002</td>\n",
              "      <td>1.675596e+10</td>\n",
              "    </tr>\n",
              "    <tr>\n",
              "      <th>max</th>\n",
              "      <td>4810.071289</td>\n",
              "      <td>4891.704590</td>\n",
              "      <td>4718.039062</td>\n",
              "      <td>4812.087402</td>\n",
              "      <td>4812.087402</td>\n",
              "      <td>8.448291e+10</td>\n",
              "    </tr>\n",
              "  </tbody>\n",
              "</table>\n",
              "</div>\n",
              "    <div class=\"colab-df-buttons\">\n",
              "\n",
              "  <div class=\"colab-df-container\">\n",
              "    <button class=\"colab-df-convert\" onclick=\"convertToInteractive('df-41852a63-a0d4-49dc-ad71-8e3d7635cee6')\"\n",
              "            title=\"Convert this dataframe to an interactive table.\"\n",
              "            style=\"display:none;\">\n",
              "\n",
              "  <svg xmlns=\"http://www.w3.org/2000/svg\" height=\"24px\" viewBox=\"0 -960 960 960\">\n",
              "    <path d=\"M120-120v-720h720v720H120Zm60-500h600v-160H180v160Zm220 220h160v-160H400v160Zm0 220h160v-160H400v160ZM180-400h160v-160H180v160Zm440 0h160v-160H620v160ZM180-180h160v-160H180v160Zm440 0h160v-160H620v160Z\"/>\n",
              "  </svg>\n",
              "    </button>\n",
              "\n",
              "  <style>\n",
              "    .colab-df-container {\n",
              "      display:flex;\n",
              "      gap: 12px;\n",
              "    }\n",
              "\n",
              "    .colab-df-convert {\n",
              "      background-color: #E8F0FE;\n",
              "      border: none;\n",
              "      border-radius: 50%;\n",
              "      cursor: pointer;\n",
              "      display: none;\n",
              "      fill: #1967D2;\n",
              "      height: 32px;\n",
              "      padding: 0 0 0 0;\n",
              "      width: 32px;\n",
              "    }\n",
              "\n",
              "    .colab-df-convert:hover {\n",
              "      background-color: #E2EBFA;\n",
              "      box-shadow: 0px 1px 2px rgba(60, 64, 67, 0.3), 0px 1px 3px 1px rgba(60, 64, 67, 0.15);\n",
              "      fill: #174EA6;\n",
              "    }\n",
              "\n",
              "    .colab-df-buttons div {\n",
              "      margin-bottom: 4px;\n",
              "    }\n",
              "\n",
              "    [theme=dark] .colab-df-convert {\n",
              "      background-color: #3B4455;\n",
              "      fill: #D2E3FC;\n",
              "    }\n",
              "\n",
              "    [theme=dark] .colab-df-convert:hover {\n",
              "      background-color: #434B5C;\n",
              "      box-shadow: 0px 1px 3px 1px rgba(0, 0, 0, 0.15);\n",
              "      filter: drop-shadow(0px 1px 2px rgba(0, 0, 0, 0.3));\n",
              "      fill: #FFFFFF;\n",
              "    }\n",
              "  </style>\n",
              "\n",
              "    <script>\n",
              "      const buttonEl =\n",
              "        document.querySelector('#df-41852a63-a0d4-49dc-ad71-8e3d7635cee6 button.colab-df-convert');\n",
              "      buttonEl.style.display =\n",
              "        google.colab.kernel.accessAllowed ? 'block' : 'none';\n",
              "\n",
              "      async function convertToInteractive(key) {\n",
              "        const element = document.querySelector('#df-41852a63-a0d4-49dc-ad71-8e3d7635cee6');\n",
              "        const dataTable =\n",
              "          await google.colab.kernel.invokeFunction('convertToInteractive',\n",
              "                                                    [key], {});\n",
              "        if (!dataTable) return;\n",
              "\n",
              "        const docLinkHtml = 'Like what you see? Visit the ' +\n",
              "          '<a target=\"_blank\" href=https://colab.research.google.com/notebooks/data_table.ipynb>data table notebook</a>'\n",
              "          + ' to learn more about interactive tables.';\n",
              "        element.innerHTML = '';\n",
              "        dataTable['output_type'] = 'display_data';\n",
              "        await google.colab.output.renderOutput(dataTable, element);\n",
              "        const docLink = document.createElement('div');\n",
              "        docLink.innerHTML = docLinkHtml;\n",
              "        element.appendChild(docLink);\n",
              "      }\n",
              "    </script>\n",
              "  </div>\n",
              "\n",
              "\n",
              "<div id=\"df-b08e0156-4dfb-4f83-a25a-9e6ac230c563\">\n",
              "  <button class=\"colab-df-quickchart\" onclick=\"quickchart('df-b08e0156-4dfb-4f83-a25a-9e6ac230c563')\"\n",
              "            title=\"Suggest charts\"\n",
              "            style=\"display:none;\">\n",
              "\n",
              "<svg xmlns=\"http://www.w3.org/2000/svg\" height=\"24px\"viewBox=\"0 0 24 24\"\n",
              "     width=\"24px\">\n",
              "    <g>\n",
              "        <path d=\"M19 3H5c-1.1 0-2 .9-2 2v14c0 1.1.9 2 2 2h14c1.1 0 2-.9 2-2V5c0-1.1-.9-2-2-2zM9 17H7v-7h2v7zm4 0h-2V7h2v10zm4 0h-2v-4h2v4z\"/>\n",
              "    </g>\n",
              "</svg>\n",
              "  </button>\n",
              "\n",
              "<style>\n",
              "  .colab-df-quickchart {\n",
              "      --bg-color: #E8F0FE;\n",
              "      --fill-color: #1967D2;\n",
              "      --hover-bg-color: #E2EBFA;\n",
              "      --hover-fill-color: #174EA6;\n",
              "      --disabled-fill-color: #AAA;\n",
              "      --disabled-bg-color: #DDD;\n",
              "  }\n",
              "\n",
              "  [theme=dark] .colab-df-quickchart {\n",
              "      --bg-color: #3B4455;\n",
              "      --fill-color: #D2E3FC;\n",
              "      --hover-bg-color: #434B5C;\n",
              "      --hover-fill-color: #FFFFFF;\n",
              "      --disabled-bg-color: #3B4455;\n",
              "      --disabled-fill-color: #666;\n",
              "  }\n",
              "\n",
              "  .colab-df-quickchart {\n",
              "    background-color: var(--bg-color);\n",
              "    border: none;\n",
              "    border-radius: 50%;\n",
              "    cursor: pointer;\n",
              "    display: none;\n",
              "    fill: var(--fill-color);\n",
              "    height: 32px;\n",
              "    padding: 0;\n",
              "    width: 32px;\n",
              "  }\n",
              "\n",
              "  .colab-df-quickchart:hover {\n",
              "    background-color: var(--hover-bg-color);\n",
              "    box-shadow: 0 1px 2px rgba(60, 64, 67, 0.3), 0 1px 3px 1px rgba(60, 64, 67, 0.15);\n",
              "    fill: var(--button-hover-fill-color);\n",
              "  }\n",
              "\n",
              "  .colab-df-quickchart-complete:disabled,\n",
              "  .colab-df-quickchart-complete:disabled:hover {\n",
              "    background-color: var(--disabled-bg-color);\n",
              "    fill: var(--disabled-fill-color);\n",
              "    box-shadow: none;\n",
              "  }\n",
              "\n",
              "  .colab-df-spinner {\n",
              "    border: 2px solid var(--fill-color);\n",
              "    border-color: transparent;\n",
              "    border-bottom-color: var(--fill-color);\n",
              "    animation:\n",
              "      spin 1s steps(1) infinite;\n",
              "  }\n",
              "\n",
              "  @keyframes spin {\n",
              "    0% {\n",
              "      border-color: transparent;\n",
              "      border-bottom-color: var(--fill-color);\n",
              "      border-left-color: var(--fill-color);\n",
              "    }\n",
              "    20% {\n",
              "      border-color: transparent;\n",
              "      border-left-color: var(--fill-color);\n",
              "      border-top-color: var(--fill-color);\n",
              "    }\n",
              "    30% {\n",
              "      border-color: transparent;\n",
              "      border-left-color: var(--fill-color);\n",
              "      border-top-color: var(--fill-color);\n",
              "      border-right-color: var(--fill-color);\n",
              "    }\n",
              "    40% {\n",
              "      border-color: transparent;\n",
              "      border-right-color: var(--fill-color);\n",
              "      border-top-color: var(--fill-color);\n",
              "    }\n",
              "    60% {\n",
              "      border-color: transparent;\n",
              "      border-right-color: var(--fill-color);\n",
              "    }\n",
              "    80% {\n",
              "      border-color: transparent;\n",
              "      border-right-color: var(--fill-color);\n",
              "      border-bottom-color: var(--fill-color);\n",
              "    }\n",
              "    90% {\n",
              "      border-color: transparent;\n",
              "      border-bottom-color: var(--fill-color);\n",
              "    }\n",
              "  }\n",
              "</style>\n",
              "\n",
              "  <script>\n",
              "    async function quickchart(key) {\n",
              "      const quickchartButtonEl =\n",
              "        document.querySelector('#' + key + ' button');\n",
              "      quickchartButtonEl.disabled = true;  // To prevent multiple clicks.\n",
              "      quickchartButtonEl.classList.add('colab-df-spinner');\n",
              "      try {\n",
              "        const charts = await google.colab.kernel.invokeFunction(\n",
              "            'suggestCharts', [key], {});\n",
              "      } catch (error) {\n",
              "        console.error('Error during call to suggestCharts:', error);\n",
              "      }\n",
              "      quickchartButtonEl.classList.remove('colab-df-spinner');\n",
              "      quickchartButtonEl.classList.add('colab-df-quickchart-complete');\n",
              "    }\n",
              "    (() => {\n",
              "      let quickchartButtonEl =\n",
              "        document.querySelector('#df-b08e0156-4dfb-4f83-a25a-9e6ac230c563 button');\n",
              "      quickchartButtonEl.style.display =\n",
              "        google.colab.kernel.accessAllowed ? 'block' : 'none';\n",
              "    })();\n",
              "  </script>\n",
              "</div>\n",
              "    </div>\n",
              "  </div>\n"
            ],
            "application/vnd.google.colaboratory.intrinsic+json": {
              "type": "dataframe",
              "summary": "{\n  \"name\": \"df\",\n  \"rows\": 8,\n  \"fields\": [\n    {\n      \"column\": \"Open\",\n      \"properties\": {\n        \"dtype\": \"number\",\n        \"std\": 1487.5975473339106,\n        \"min\": 84.27969360351562,\n        \"max\": 4810.0712890625,\n        \"num_unique_values\": 8,\n        \"samples\": [\n          1288.8716914695085,\n          1171.443115234375,\n          2251.0\n        ],\n        \"semantic_type\": \"\",\n        \"description\": \"\"\n      }\n    },\n    {\n      \"column\": \"High\",\n      \"properties\": {\n        \"dtype\": \"number\",\n        \"std\": 1508.8065330099835,\n        \"min\": 85.34274291992188,\n        \"max\": 4891.70458984375,\n        \"num_unique_values\": 8,\n        \"samples\": [\n          1325.2172614715726,\n          1213.12890625,\n          2251.0\n        ],\n        \"semantic_type\": \"\",\n        \"description\": \"\"\n      }\n    },\n    {\n      \"column\": \"Low\",\n      \"properties\": {\n        \"dtype\": \"number\",\n        \"std\": 1464.6979041498369,\n        \"min\": 82.82988739013672,\n        \"max\": 4718.0390625,\n        \"num_unique_values\": 8,\n        \"samples\": [\n          1249.1352978354294,\n          1111.780029296875,\n          2251.0\n        ],\n        \"semantic_type\": \"\",\n        \"description\": \"\"\n      }\n    },\n    {\n      \"column\": \"Close\",\n      \"properties\": {\n        \"dtype\": \"number\",\n        \"std\": 1487.802586285616,\n        \"min\": 84.30829620361328,\n        \"max\": 4812.08740234375,\n        \"num_unique_values\": 8,\n        \"samples\": [\n          1289.8241629513673,\n          1182.3599853515625,\n          2251.0\n        ],\n        \"semantic_type\": \"\",\n        \"description\": \"\"\n      }\n    },\n    {\n      \"column\": \"Adj Close\",\n      \"properties\": {\n        \"dtype\": \"number\",\n        \"std\": 1487.802586285616,\n        \"min\": 84.30829620361328,\n        \"max\": 4812.08740234375,\n        \"num_unique_values\": 8,\n        \"samples\": [\n          1289.8241629513673,\n          1182.3599853515625,\n          2251.0\n        ],\n        \"semantic_type\": \"\",\n        \"description\": \"\"\n      }\n    },\n    {\n      \"column\": \"Volume\",\n      \"properties\": {\n        \"dtype\": \"number\",\n        \"std\": 27673822561.59769,\n        \"min\": 2251.0,\n        \"max\": 84482912776.0,\n        \"num_unique_values\": 8,\n        \"samples\": [\n          12310396439.151487,\n          9724496987.0,\n          2251.0\n        ],\n        \"semantic_type\": \"\",\n        \"description\": \"\"\n      }\n    }\n  ]\n}"
            }
          },
          "metadata": {},
          "execution_count": 5
        }
      ]
    },
    {
      "cell_type": "code",
      "source": [
        "df.info()"
      ],
      "metadata": {
        "id": "FmCE5G7KJytf",
        "outputId": "2730252b-0288-4fe3-de73-6ee0781688cc",
        "colab": {
          "base_uri": "https://localhost:8080/"
        }
      },
      "execution_count": 6,
      "outputs": [
        {
          "output_type": "stream",
          "name": "stdout",
          "text": [
            "<class 'pandas.core.frame.DataFrame'>\n",
            "RangeIndex: 2251 entries, 0 to 2250\n",
            "Data columns (total 7 columns):\n",
            " #   Column     Non-Null Count  Dtype  \n",
            "---  ------     --------------  -----  \n",
            " 0   Date       2251 non-null   object \n",
            " 1   Open       2251 non-null   float64\n",
            " 2   High       2251 non-null   float64\n",
            " 3   Low        2251 non-null   float64\n",
            " 4   Close      2251 non-null   float64\n",
            " 5   Adj Close  2251 non-null   float64\n",
            " 6   Volume     2251 non-null   int64  \n",
            "dtypes: float64(5), int64(1), object(1)\n",
            "memory usage: 123.2+ KB\n"
          ]
        }
      ]
    },
    {
      "cell_type": "code",
      "source": [
        "total = df.isnull().sum().sort_values(ascending=False)\n",
        "percent_1 = df.isnull().sum()/df.isnull().count()*100\n",
        "# round: lay sau dau , 1 don vi\n",
        "percent_2 = (round(percent_1, 1)).sort_values(ascending=False)\n",
        "missing_data = pd.concat([total, percent_2], axis=1, keys=['Total', '%'])\n",
        "top_missing_values = missing_data.head(5)\n",
        "# In kết quả\n",
        "print(\"🍄🍄🍄\" , top_missing_values)\n",
        "print(\"-------------------------------------------\")"
      ],
      "metadata": {
        "id": "zaZMmjKGKa_Z",
        "outputId": "05e69d50-3b1d-4b70-e79e-e5dd7f58eb2d",
        "colab": {
          "base_uri": "https://localhost:8080/"
        }
      },
      "execution_count": 3,
      "outputs": [
        {
          "output_type": "stream",
          "name": "stdout",
          "text": [
            "🍄🍄🍄        Total    %\n",
            "Date       0  0.0\n",
            "Open       0  0.0\n",
            "High       0  0.0\n",
            "Low        0  0.0\n",
            "Close      0  0.0\n",
            "-------------------------------------------\n"
          ]
        }
      ]
    },
    {
      "cell_type": "markdown",
      "source": [
        "**There are no any missing data --> There is no need to handling missing data**"
      ],
      "metadata": {
        "id": "lpYa-aM2QYJ6"
      }
    },
    {
      "cell_type": "markdown",
      "source": [],
      "metadata": {
        "id": "CZbPDZ1lQh47"
      }
    },
    {
      "cell_type": "markdown",
      "source": [
        "### Processing outliers"
      ],
      "metadata": {
        "id": "DfAQCmvjUXov"
      }
    },
    {
      "cell_type": "markdown",
      "source": [
        "#### Box plot"
      ],
      "metadata": {
        "id": "iUlkYT3YnnPD"
      }
    },
    {
      "cell_type": "code",
      "source": [
        "sns.boxplot(df.Close)"
      ],
      "metadata": {
        "id": "ouA1nehnPtYK",
        "outputId": "68043944-e5e3-43f1-b112-1a8f07721644",
        "colab": {
          "base_uri": "https://localhost:8080/",
          "height": 431
        }
      },
      "execution_count": 8,
      "outputs": [
        {
          "output_type": "execute_result",
          "data": {
            "text/plain": [
              "<Axes: ylabel='Close'>"
            ]
          },
          "metadata": {},
          "execution_count": 8
        },
        {
          "output_type": "display_data",
          "data": {
            "text/plain": [
              "<Figure size 640x480 with 1 Axes>"
            ],
            "image/png": "[encoded data removed]"
          },
          "metadata": {}
        }
      ]
    },
    {
      "cell_type": "code",
      "source": [
        "sns.boxplot(df.High)"
      ],
      "metadata": {
        "colab": {
          "base_uri": "https://localhost:8080/",
          "height": 429
        },
        "id": "b-o-DCfjnePn",
        "outputId": "ae4c9101-4b5f-410c-c3d9-e626df380cc2"
      },
      "execution_count": 9,
      "outputs": [
        {
          "output_type": "execute_result",
          "data": {
            "text/plain": [
              "<Axes: ylabel='High'>"
            ]
          },
          "metadata": {},
          "execution_count": 9
        },
        {
          "output_type": "display_data",
          "data": {
            "text/plain": [
              "<Figure size 640x480 with 1 Axes>"
            ],
            "image/png": "[encoded data removed]"
          },
          "metadata": {}
        }
      ]
    },
    {
      "cell_type": "code",
      "source": [
        "sns.boxplot(df.Low)"
      ],
      "metadata": {
        "id": "Lqd9AKyUnuto",
        "outputId": "7c770667-f987-47ef-c49d-80804ca4d42f",
        "colab": {
          "base_uri": "https://localhost:8080/",
          "height": 429
        }
      },
      "execution_count": 10,
      "outputs": [
        {
          "output_type": "execute_result",
          "data": {
            "text/plain": [
              "<Axes: ylabel='Low'>"
            ]
          },
          "metadata": {},
          "execution_count": 10
        },
        {
          "output_type": "display_data",
          "data": {
            "text/plain": [
              "<Figure size 640x480 with 1 Axes>"
            ],
            "image/png": "[encoded data removed]"
          },
          "metadata": {}
        }
      ]
    },
    {
      "cell_type": "markdown",
      "source": [
        "#### Using Z_score"
      ],
      "metadata": {
        "id": "puaDMPrTUeIa"
      }
    },
    {
      "cell_type": "code",
      "source": [
        "def remove_outliers(df, column_name):\n",
        "    Q1 = np.percentile(df[column_name], 25, method='midpoint')\n",
        "    Q3 = np.percentile(df[column_name], 75, method='midpoint')\n",
        "    IQR = Q3 - Q1\n",
        "\n",
        "    upper = Q3 + 1.5 * IQR\n",
        "    lower = Q1 - 1.5 * IQR\n",
        "    # upper\n",
        "    upper_array = np.array(df[column_name] >= upper)\n",
        "    print(\"🎃🎃🎃🎃 Upper Bound:\", upper)\n",
        "    print(\"🍓🍋 Upper number\", upper_array.sum())\n",
        "    # lower\n",
        "    lower_array = np.array(df[column_name] <= lower)\n",
        "    print(\"🙏🙏🙏🙏 Lower Bound:\", lower)\n",
        "    print(\"🍐🍈 Lower number\", lower_array.sum())\n",
        "\n",
        "    upper_indices = np.where(df[column_name] >= upper)[0]\n",
        "    lower_indices = np.where(df[column_name] <= lower)[0]\n",
        "\n",
        "    # Chỉ lấy các chỉ mục tồn tại trong DataFrame\n",
        "    upper_indices = np.intersect1d(upper_indices, df.index)\n",
        "    lower_indices = np.intersect1d(lower_indices, df.index)\n",
        "\n",
        "    df.drop(index = upper_indices, inplace=True)\n",
        "    df.drop(index = lower_indices, inplace=True)"
      ],
      "metadata": {
        "id": "TaIV-S3MgN7s"
      },
      "execution_count": 4,
      "outputs": []
    },
    {
      "cell_type": "code",
      "source": [
        "remove_outliers(df, 'Close')"
      ],
      "metadata": {
        "colab": {
          "base_uri": "https://localhost:8080/"
        },
        "id": "rcRiwNe5hTIP",
        "outputId": "3b7bcf02-4313-4f61-9c15-a0eb0ddaa725"
      },
      "execution_count": 5,
      "outputs": [
        {
          "output_type": "stream",
          "name": "stdout",
          "text": [
            "🎃🎃🎃🎃 Upper Bound: 4414.53316116333\n",
            "🍓🍋 Upper number 20\n",
            "🙏🙏🙏🙏 Lower Bound: -2279.048595428467\n",
            "🍐🍈 Lower number 0\n"
          ]
        }
      ]
    },
    {
      "cell_type": "code",
      "source": [
        "remove_outliers(df, 'High')"
      ],
      "metadata": {
        "colab": {
          "base_uri": "https://localhost:8080/"
        },
        "id": "N9ucFyXthhNl",
        "outputId": "34a13f82-1aea-42ac-82f3-2b751e740e03"
      },
      "execution_count": 6,
      "outputs": [
        {
          "output_type": "stream",
          "name": "stdout",
          "text": [
            "🎃🎃🎃🎃 Upper Bound: 4471.887042999268\n",
            "🍓🍋 Upper number 5\n",
            "🙏🙏🙏🙏 Lower Bound: -2307.8646354675293\n",
            "🍐🍈 Lower number 0\n"
          ]
        }
      ]
    },
    {
      "cell_type": "code",
      "source": [
        "remove_outliers(df, 'Open')"
      ],
      "metadata": {
        "colab": {
          "base_uri": "https://localhost:8080/"
        },
        "id": "AfI5JA6AlTqF",
        "outputId": "88f2be7e-fc7e-4559-e397-44fc67fd71e7"
      },
      "execution_count": 7,
      "outputs": [
        {
          "output_type": "stream",
          "name": "stdout",
          "text": [
            "🎃🎃🎃🎃 Upper Bound: 4380.201225280762\n",
            "🍓🍋 Upper number 6\n",
            "🙏🙏🙏🙏 Lower Bound: -2260.5847244262695\n",
            "🍐🍈 Lower number 0\n"
          ]
        }
      ]
    },
    {
      "cell_type": "code",
      "source": [
        "remove_outliers(df, 'Adj Close')"
      ],
      "metadata": {
        "colab": {
          "base_uri": "https://localhost:8080/"
        },
        "id": "VObh_UjKmZa5",
        "outputId": "21c4cd25-561c-424e-902a-3bf1371e5675"
      },
      "execution_count": 8,
      "outputs": [
        {
          "output_type": "stream",
          "name": "stdout",
          "text": [
            "🎃🎃🎃🎃 Upper Bound: 4380.68811416626\n",
            "🍓🍋 Upper number 1\n",
            "🙏🙏🙏🙏 Lower Bound: -2260.8576316833496\n",
            "🍐🍈 Lower number 0\n"
          ]
        }
      ]
    },
    {
      "cell_type": "code",
      "source": [
        "df.info()"
      ],
      "metadata": {
        "colab": {
          "base_uri": "https://localhost:8080/"
        },
        "id": "Dc3MO7tChbQh",
        "outputId": "eb65d660-2141-4754-8094-e4e4aab1fa00"
      },
      "execution_count": 12,
      "outputs": [
        {
          "output_type": "stream",
          "name": "stdout",
          "text": [
            "<class 'pandas.core.frame.DataFrame'>\n",
            "Index: 2227 entries, 0 to 2250\n",
            "Data columns (total 7 columns):\n",
            " #   Column     Non-Null Count  Dtype  \n",
            "---  ------     --------------  -----  \n",
            " 0   Date       2227 non-null   object \n",
            " 1   Open       2227 non-null   float64\n",
            " 2   High       2227 non-null   float64\n",
            " 3   Low        2227 non-null   float64\n",
            " 4   Close      2227 non-null   float64\n",
            " 5   Adj Close  2227 non-null   float64\n",
            " 6   Volume     2227 non-null   int64  \n",
            "dtypes: float64(5), int64(1), object(1)\n",
            "memory usage: 139.2+ KB\n"
          ]
        }
      ]
    },
    {
      "cell_type": "code",
      "source": [
        "sns.boxplot(df.Close)"
      ],
      "metadata": {
        "id": "aBRciTltVtjO",
        "outputId": "1756324a-6742-4e61-9e38-becf39f8de58",
        "colab": {
          "base_uri": "https://localhost:8080/",
          "height": 429
        }
      },
      "execution_count": 17,
      "outputs": [
        {
          "output_type": "execute_result",
          "data": {
            "text/plain": [
              "<Axes: ylabel='Close'>"
            ]
          },
          "metadata": {},
          "execution_count": 17
        },
        {
          "output_type": "display_data",
          "data": {
            "text/plain": [
              "<Figure size 640x480 with 1 Axes>"
            ],
            "image/png": "[encoded data removed]"
          },
          "metadata": {}
        }
      ]
    },
    {
      "cell_type": "code",
      "source": [
        "sns.boxplot(df.High)"
      ],
      "metadata": {
        "colab": {
          "base_uri": "https://localhost:8080/",
          "height": 429
        },
        "id": "9KL9yPM8noFg",
        "outputId": "499fdf2a-dff4-4a56-e62d-27e6418ca668"
      },
      "execution_count": 18,
      "outputs": [
        {
          "output_type": "execute_result",
          "data": {
            "text/plain": [
              "<Axes: ylabel='High'>"
            ]
          },
          "metadata": {},
          "execution_count": 18
        },
        {
          "output_type": "display_data",
          "data": {
            "text/plain": [
              "<Figure size 640x480 with 1 Axes>"
            ],
            "image/png": "[encoded data removed]"
          },
          "metadata": {}
        }
      ]
    },
    {
      "cell_type": "markdown",
      "source": [
        "** 🍷🍷🍷🍷 There are no any outlier values**"
      ],
      "metadata": {
        "id": "uEj8EZ51VwRB"
      }
    },
    {
      "cell_type": "code",
      "source": [],
      "metadata": {
        "id": "jsGQVdTJYTNF"
      },
      "execution_count": null,
      "outputs": []
    },
    {
      "cell_type": "code",
      "source": [],
      "metadata": {
        "id": "cOmCbKqqYWoW"
      },
      "execution_count": null,
      "outputs": []
    },
    {
      "cell_type": "markdown",
      "source": [
        "### Stationary"
      ],
      "metadata": {
        "id": "P4Wh8psrEjT2"
      }
    },
    {
      "cell_type": "code",
      "source": [
        "df_selected = df[['Open', 'High', 'Low', 'Close', 'Adj Close']]"
      ],
      "metadata": {
        "id": "8FngqIPSGd-_"
      },
      "execution_count": 19,
      "outputs": []
    },
    {
      "cell_type": "code",
      "source": [
        "def adf_test(timeseries):\n",
        "  timeseries.replace([np.inf, -np.inf], np.nan, inplace=True)\n",
        "  timeseries.dropna(inplace=True)\n",
        "  result = adfuller(timeseries, autolag='AIC')\n",
        "\n",
        "  print('ADF Statistic:', result[0])\n",
        "  print('p-value:', result[1])\n",
        "  print('Critical Values:', result[4])\n",
        "\n",
        "  # Check the p-value\n",
        "  if result[1] <= 0.05:\n",
        "    print(\"Reject the null hypothesis. Data is stationary.\")\n",
        "  else:\n",
        "    print(\"Fail to reject the null hypothesis. Data is non-stationary.\")\n",
        "\n",
        "# Test the stationarity of the data\n",
        "for column in df_selected.columns:\n",
        "    print(f\"\\nADF Test for column: {column}\")\n",
        "    adf_test(df[column])"
      ],
      "metadata": {
        "colab": {
          "base_uri": "https://localhost:8080/"
        },
        "id": "ArA8_StnEi4X",
        "outputId": "d5e587d1-a271-4791-eb54-7a1e42c63511"
      },
      "execution_count": 20,
      "outputs": [
        {
          "output_type": "stream",
          "name": "stdout",
          "text": [
            "\n",
            "ADF Test for column: Open\n",
            "ADF Statistic: -0.9008023453170341\n",
            "p-value: 0.7877080790036302\n",
            "Critical Values: {'1%': -3.433317781310122, '5%': -2.8628510732269983, '10%': -2.56746794802603}\n",
            "Fail to reject the null hypothesis. Data is non-stationary.\n",
            "\n",
            "ADF Test for column: High\n",
            "ADF Statistic: -1.0384584378987405\n",
            "p-value: 0.7389804023449064\n",
            "Critical Values: {'1%': -3.433327239607306, '5%': -2.8628552495229194, '10%': -2.5674701716229276}\n",
            "Fail to reject the null hypothesis. Data is non-stationary.\n",
            "\n",
            "ADF Test for column: Low\n",
            "ADF Statistic: -0.7905854530397723\n",
            "p-value: 0.821871889117299\n",
            "Critical Values: {'1%': -3.4333204775429715, '5%': -2.8628522637456255, '10%': -2.5674685818969634}\n",
            "Fail to reject the null hypothesis. Data is non-stationary.\n",
            "\n",
            "ADF Test for column: Close\n",
            "ADF Statistic: -0.940498794662849\n",
            "p-value: 0.7743432889730413\n",
            "Critical Values: {'1%': -3.4333231786793434, '5%': -2.8628534564283212, '10%': -2.5674692169202964}\n",
            "Fail to reject the null hypothesis. Data is non-stationary.\n",
            "\n",
            "ADF Test for column: Adj Close\n",
            "ADF Statistic: -0.940498794662849\n",
            "p-value: 0.7743432889730413\n",
            "Critical Values: {'1%': -3.4333231786793434, '5%': -2.8628534564283212, '10%': -2.5674692169202964}\n",
            "Fail to reject the null hypothesis. Data is non-stationary.\n"
          ]
        }
      ]
    },
    {
      "cell_type": "markdown",
      "source": [
        "#### Lấy sai phân bậc 1"
      ],
      "metadata": {
        "id": "UH01-aZ2IPBo"
      }
    },
    {
      "cell_type": "code",
      "source": [
        "df_first_diff = df_selected.diff().dropna()\n",
        "\n",
        "# Kiểm tra tính dừng cho từng cột sau khi lấy sai phân\n",
        "for column in df_first_diff.columns:\n",
        "    print(f\"\\nADF Test for column: {column}\")\n",
        "    adf_test(df_first_diff[column])"
      ],
      "metadata": {
        "colab": {
          "base_uri": "https://localhost:8080/"
        },
        "id": "G2cTEbASIOmx",
        "outputId": "b1f38479-e3d4-4d24-d935-9e2da24763de"
      },
      "execution_count": 21,
      "outputs": [
        {
          "output_type": "stream",
          "name": "stdout",
          "text": [
            "\n",
            "ADF Test for column: Open\n",
            "ADF Statistic: -8.028582943656755\n",
            "p-value: 1.986408914256462e-12\n",
            "Critical Values: {'1%': -3.4333285957162567, '5%': -2.8628558483095645, '10%': -2.5674704904367522}\n",
            "Reject the null hypothesis. Data is stationary.\n",
            "\n",
            "ADF Test for column: High\n",
            "ADF Statistic: -7.589395728808053\n",
            "p-value: 2.5551962683070528e-11\n",
            "Critical Values: {'1%': -3.4333285957162567, '5%': -2.8628558483095645, '10%': -2.5674704904367522}\n",
            "Reject the null hypothesis. Data is stationary.\n",
            "\n",
            "ADF Test for column: Low\n",
            "ADF Statistic: -10.907712138854063\n",
            "p-value: 1.1171470705423518e-19\n",
            "Critical Values: {'1%': -3.4333204775429715, '5%': -2.8628522637456255, '10%': -2.5674685818969634}\n",
            "Reject the null hypothesis. Data is stationary.\n",
            "\n",
            "ADF Test for column: Close\n",
            "ADF Statistic: -8.057435278300737\n",
            "p-value: 1.6777869135642934e-12\n",
            "Critical Values: {'1%': -3.4333285957162567, '5%': -2.8628558483095645, '10%': -2.5674704904367522}\n",
            "Reject the null hypothesis. Data is stationary.\n",
            "\n",
            "ADF Test for column: Adj Close\n",
            "ADF Statistic: -8.057435278300737\n",
            "p-value: 1.6777869135642934e-12\n",
            "Critical Values: {'1%': -3.4333285957162567, '5%': -2.8628558483095645, '10%': -2.5674704904367522}\n",
            "Reject the null hypothesis. Data is stationary.\n"
          ]
        }
      ]
    },
    {
      "cell_type": "code",
      "source": [
        "df_first_diff"
      ],
      "metadata": {
        "colab": {
          "base_uri": "https://localhost:8080/",
          "height": 423
        },
        "id": "PVH2FxqzTQha",
        "outputId": "1fdd83c5-9156-47df-cbfb-aac2588aca95"
      },
      "execution_count": 22,
      "outputs": [
        {
          "output_type": "execute_result",
          "data": {
            "text/plain": [
              "            Open        High         Low       Close   Adj Close\n",
              "1      16.588989  132.299988   30.341980  111.802979  111.802979\n",
              "2     113.653992   59.640991   96.104980   78.276001   78.276001\n",
              "3      75.713013   70.608948   77.635010   18.202026   18.202026\n",
              "4      14.036987   30.310059   10.239014   16.797974   16.797974\n",
              "5      19.403992  -14.680054   38.296997   43.960083   43.960083\n",
              "...          ...         ...         ...         ...         ...\n",
              "2246   70.403809  114.233887   76.692383  120.311279  120.311279\n",
              "2247  120.162354   79.946045   53.561523   66.296387   66.296387\n",
              "2248   65.875977   90.583008  129.875977   65.525635   65.525635\n",
              "2249   65.488281  197.492920   33.745361  141.184570  141.184570\n",
              "2250  142.909424   33.518311  102.329346  -43.784180  -43.784180\n",
              "\n",
              "[2226 rows x 5 columns]"
            ],
            "text/html": [
              "\n",
              "  <div id=\"df-15d5e953-605a-4d9b-bcbc-4b1beb798c57\" class=\"colab-df-container\">\n",
              "    <div>\n",
              "<style scoped>\n",
              "    .dataframe tbody tr th:only-of-type {\n",
              "        vertical-align: middle;\n",
              "    }\n",
              "\n",
              "    .dataframe tbody tr th {\n",
              "        vertical-align: top;\n",
              "    }\n",
              "\n",
              "    .dataframe thead th {\n",
              "        text-align: right;\n",
              "    }\n",
              "</style>\n",
              "<table border=\"1\" class=\"dataframe\">\n",
              "  <thead>\n",
              "    <tr style=\"text-align: right;\">\n",
              "      <th></th>\n",
              "      <th>Open</th>\n",
              "      <th>High</th>\n",
              "      <th>Low</th>\n",
              "      <th>Close</th>\n",
              "      <th>Adj Close</th>\n",
              "    </tr>\n",
              "  </thead>\n",
              "  <tbody>\n",
              "    <tr>\n",
              "      <th>1</th>\n",
              "      <td>16.588989</td>\n",
              "      <td>132.299988</td>\n",
              "      <td>30.341980</td>\n",
              "      <td>111.802979</td>\n",
              "      <td>111.802979</td>\n",
              "    </tr>\n",
              "    <tr>\n",
              "      <th>2</th>\n",
              "      <td>113.653992</td>\n",
              "      <td>59.640991</td>\n",
              "      <td>96.104980</td>\n",
              "      <td>78.276001</td>\n",
              "      <td>78.276001</td>\n",
              "    </tr>\n",
              "    <tr>\n",
              "      <th>3</th>\n",
              "      <td>75.713013</td>\n",
              "      <td>70.608948</td>\n",
              "      <td>77.635010</td>\n",
              "      <td>18.202026</td>\n",
              "      <td>18.202026</td>\n",
              "    </tr>\n",
              "    <tr>\n",
              "      <th>4</th>\n",
              "      <td>14.036987</td>\n",
              "      <td>30.310059</td>\n",
              "      <td>10.239014</td>\n",
              "      <td>16.797974</td>\n",
              "      <td>16.797974</td>\n",
              "    </tr>\n",
              "    <tr>\n",
              "      <th>5</th>\n",
              "      <td>19.403992</td>\n",
              "      <td>-14.680054</td>\n",
              "      <td>38.296997</td>\n",
              "      <td>43.960083</td>\n",
              "      <td>43.960083</td>\n",
              "    </tr>\n",
              "    <tr>\n",
              "      <th>...</th>\n",
              "      <td>...</td>\n",
              "      <td>...</td>\n",
              "      <td>...</td>\n",
              "      <td>...</td>\n",
              "      <td>...</td>\n",
              "    </tr>\n",
              "    <tr>\n",
              "      <th>2246</th>\n",
              "      <td>70.403809</td>\n",
              "      <td>114.233887</td>\n",
              "      <td>76.692383</td>\n",
              "      <td>120.311279</td>\n",
              "      <td>120.311279</td>\n",
              "    </tr>\n",
              "    <tr>\n",
              "      <th>2247</th>\n",
              "      <td>120.162354</td>\n",
              "      <td>79.946045</td>\n",
              "      <td>53.561523</td>\n",
              "      <td>66.296387</td>\n",
              "      <td>66.296387</td>\n",
              "    </tr>\n",
              "    <tr>\n",
              "      <th>2248</th>\n",
              "      <td>65.875977</td>\n",
              "      <td>90.583008</td>\n",
              "      <td>129.875977</td>\n",
              "      <td>65.525635</td>\n",
              "      <td>65.525635</td>\n",
              "    </tr>\n",
              "    <tr>\n",
              "      <th>2249</th>\n",
              "      <td>65.488281</td>\n",
              "      <td>197.492920</td>\n",
              "      <td>33.745361</td>\n",
              "      <td>141.184570</td>\n",
              "      <td>141.184570</td>\n",
              "    </tr>\n",
              "    <tr>\n",
              "      <th>2250</th>\n",
              "      <td>142.909424</td>\n",
              "      <td>33.518311</td>\n",
              "      <td>102.329346</td>\n",
              "      <td>-43.784180</td>\n",
              "      <td>-43.784180</td>\n",
              "    </tr>\n",
              "  </tbody>\n",
              "</table>\n",
              "<p>2226 rows × 5 columns</p>\n",
              "</div>\n",
              "    <div class=\"colab-df-buttons\">\n",
              "\n",
              "  <div class=\"colab-df-container\">\n",
              "    <button class=\"colab-df-convert\" onclick=\"convertToInteractive('df-15d5e953-605a-4d9b-bcbc-4b1beb798c57')\"\n",
              "            title=\"Convert this dataframe to an interactive table.\"\n",
              "            style=\"display:none;\">\n",
              "\n",
              "  <svg xmlns=\"http://www.w3.org/2000/svg\" height=\"24px\" viewBox=\"0 -960 960 960\">\n",
              "    <path d=\"M120-120v-720h720v720H120Zm60-500h600v-160H180v160Zm220 220h160v-160H400v160Zm0 220h160v-160H400v160ZM180-400h160v-160H180v160Zm440 0h160v-160H620v160ZM180-180h160v-160H180v160Zm440 0h160v-160H620v160Z\"/>\n",
              "  </svg>\n",
              "    </button>\n",
              "\n",
              "  <style>\n",
              "    .colab-df-container {\n",
              "      display:flex;\n",
              "      gap: 12px;\n",
              "    }\n",
              "\n",
              "    .colab-df-convert {\n",
              "      background-color: #E8F0FE;\n",
              "      border: none;\n",
              "      border-radius: 50%;\n",
              "      cursor: pointer;\n",
              "      display: none;\n",
              "      fill: #1967D2;\n",
              "      height: 32px;\n",
              "      padding: 0 0 0 0;\n",
              "      width: 32px;\n",
              "    }\n",
              "\n",
              "    .colab-df-convert:hover {\n",
              "      background-color: #E2EBFA;\n",
              "      box-shadow: 0px 1px 2px rgba(60, 64, 67, 0.3), 0px 1px 3px 1px rgba(60, 64, 67, 0.15);\n",
              "      fill: #174EA6;\n",
              "    }\n",
              "\n",
              "    .colab-df-buttons div {\n",
              "      margin-bottom: 4px;\n",
              "    }\n",
              "\n",
              "    [theme=dark] .colab-df-convert {\n",
              "      background-color: #3B4455;\n",
              "      fill: #D2E3FC;\n",
              "    }\n",
              "\n",
              "    [theme=dark] .colab-df-convert:hover {\n",
              "      background-color: #434B5C;\n",
              "      box-shadow: 0px 1px 3px 1px rgba(0, 0, 0, 0.15);\n",
              "      filter: drop-shadow(0px 1px 2px rgba(0, 0, 0, 0.3));\n",
              "      fill: #FFFFFF;\n",
              "    }\n",
              "  </style>\n",
              "\n",
              "    <script>\n",
              "      const buttonEl =\n",
              "        document.querySelector('#df-15d5e953-605a-4d9b-bcbc-4b1beb798c57 button.colab-df-convert');\n",
              "      buttonEl.style.display =\n",
              "        google.colab.kernel.accessAllowed ? 'block' : 'none';\n",
              "\n",
              "      async function convertToInteractive(key) {\n",
              "        const element = document.querySelector('#df-15d5e953-605a-4d9b-bcbc-4b1beb798c57');\n",
              "        const dataTable =\n",
              "          await google.colab.kernel.invokeFunction('convertToInteractive',\n",
              "                                                    [key], {});\n",
              "        if (!dataTable) return;\n",
              "\n",
              "        const docLinkHtml = 'Like what you see? Visit the ' +\n",
              "          '<a target=\"_blank\" href=https://colab.research.google.com/notebooks/data_table.ipynb>data table notebook</a>'\n",
              "          + ' to learn more about interactive tables.';\n",
              "        element.innerHTML = '';\n",
              "        dataTable['output_type'] = 'display_data';\n",
              "        await google.colab.output.renderOutput(dataTable, element);\n",
              "        const docLink = document.createElement('div');\n",
              "        docLink.innerHTML = docLinkHtml;\n",
              "        element.appendChild(docLink);\n",
              "      }\n",
              "    </script>\n",
              "  </div>\n",
              "\n",
              "\n",
              "<div id=\"df-5272cf73-70f5-4c87-94a2-d37c269d11ba\">\n",
              "  <button class=\"colab-df-quickchart\" onclick=\"quickchart('df-5272cf73-70f5-4c87-94a2-d37c269d11ba')\"\n",
              "            title=\"Suggest charts\"\n",
              "            style=\"display:none;\">\n",
              "\n",
              "<svg xmlns=\"http://www.w3.org/2000/svg\" height=\"24px\"viewBox=\"0 0 24 24\"\n",
              "     width=\"24px\">\n",
              "    <g>\n",
              "        <path d=\"M19 3H5c-1.1 0-2 .9-2 2v14c0 1.1.9 2 2 2h14c1.1 0 2-.9 2-2V5c0-1.1-.9-2-2-2zM9 17H7v-7h2v7zm4 0h-2V7h2v10zm4 0h-2v-4h2v4z\"/>\n",
              "    </g>\n",
              "</svg>\n",
              "  </button>\n",
              "\n",
              "<style>\n",
              "  .colab-df-quickchart {\n",
              "      --bg-color: #E8F0FE;\n",
              "      --fill-color: #1967D2;\n",
              "      --hover-bg-color: #E2EBFA;\n",
              "      --hover-fill-color: #174EA6;\n",
              "      --disabled-fill-color: #AAA;\n",
              "      --disabled-bg-color: #DDD;\n",
              "  }\n",
              "\n",
              "  [theme=dark] .colab-df-quickchart {\n",
              "      --bg-color: #3B4455;\n",
              "      --fill-color: #D2E3FC;\n",
              "      --hover-bg-color: #434B5C;\n",
              "      --hover-fill-color: #FFFFFF;\n",
              "      --disabled-bg-color: #3B4455;\n",
              "      --disabled-fill-color: #666;\n",
              "  }\n",
              "\n",
              "  .colab-df-quickchart {\n",
              "    background-color: var(--bg-color);\n",
              "    border: none;\n",
              "    border-radius: 50%;\n",
              "    cursor: pointer;\n",
              "    display: none;\n",
              "    fill: var(--fill-color);\n",
              "    height: 32px;\n",
              "    padding: 0;\n",
              "    width: 32px;\n",
              "  }\n",
              "\n",
              "  .colab-df-quickchart:hover {\n",
              "    background-color: var(--hover-bg-color);\n",
              "    box-shadow: 0 1px 2px rgba(60, 64, 67, 0.3), 0 1px 3px 1px rgba(60, 64, 67, 0.15);\n",
              "    fill: var(--button-hover-fill-color);\n",
              "  }\n",
              "\n",
              "  .colab-df-quickchart-complete:disabled,\n",
              "  .colab-df-quickchart-complete:disabled:hover {\n",
              "    background-color: var(--disabled-bg-color);\n",
              "    fill: var(--disabled-fill-color);\n",
              "    box-shadow: none;\n",
              "  }\n",
              "\n",
              "  .colab-df-spinner {\n",
              "    border: 2px solid var(--fill-color);\n",
              "    border-color: transparent;\n",
              "    border-bottom-color: var(--fill-color);\n",
              "    animation:\n",
              "      spin 1s steps(1) infinite;\n",
              "  }\n",
              "\n",
              "  @keyframes spin {\n",
              "    0% {\n",
              "      border-color: transparent;\n",
              "      border-bottom-color: var(--fill-color);\n",
              "      border-left-color: var(--fill-color);\n",
              "    }\n",
              "    20% {\n",
              "      border-color: transparent;\n",
              "      border-left-color: var(--fill-color);\n",
              "      border-top-color: var(--fill-color);\n",
              "    }\n",
              "    30% {\n",
              "      border-color: transparent;\n",
              "      border-left-color: var(--fill-color);\n",
              "      border-top-color: var(--fill-color);\n",
              "      border-right-color: var(--fill-color);\n",
              "    }\n",
              "    40% {\n",
              "      border-color: transparent;\n",
              "      border-right-color: var(--fill-color);\n",
              "      border-top-color: var(--fill-color);\n",
              "    }\n",
              "    60% {\n",
              "      border-color: transparent;\n",
              "      border-right-color: var(--fill-color);\n",
              "    }\n",
              "    80% {\n",
              "      border-color: transparent;\n",
              "      border-right-color: var(--fill-color);\n",
              "      border-bottom-color: var(--fill-color);\n",
              "    }\n",
              "    90% {\n",
              "      border-color: transparent;\n",
              "      border-bottom-color: var(--fill-color);\n",
              "    }\n",
              "  }\n",
              "</style>\n",
              "\n",
              "  <script>\n",
              "    async function quickchart(key) {\n",
              "      const quickchartButtonEl =\n",
              "        document.querySelector('#' + key + ' button');\n",
              "      quickchartButtonEl.disabled = true;  // To prevent multiple clicks.\n",
              "      quickchartButtonEl.classList.add('colab-df-spinner');\n",
              "      try {\n",
              "        const charts = await google.colab.kernel.invokeFunction(\n",
              "            'suggestCharts', [key], {});\n",
              "      } catch (error) {\n",
              "        console.error('Error during call to suggestCharts:', error);\n",
              "      }\n",
              "      quickchartButtonEl.classList.remove('colab-df-spinner');\n",
              "      quickchartButtonEl.classList.add('colab-df-quickchart-complete');\n",
              "    }\n",
              "    (() => {\n",
              "      let quickchartButtonEl =\n",
              "        document.querySelector('#df-5272cf73-70f5-4c87-94a2-d37c269d11ba button');\n",
              "      quickchartButtonEl.style.display =\n",
              "        google.colab.kernel.accessAllowed ? 'block' : 'none';\n",
              "    })();\n",
              "  </script>\n",
              "</div>\n",
              "    </div>\n",
              "  </div>\n"
            ],
            "application/vnd.google.colaboratory.intrinsic+json": {
              "type": "dataframe",
              "variable_name": "df_first_diff",
              "summary": "{\n  \"name\": \"df_first_diff\",\n  \"rows\": 2226,\n  \"fields\": [\n    {\n      \"column\": \"Open\",\n      \"properties\": {\n        \"dtype\": \"number\",\n        \"std\": 75.45884508590431,\n        \"min\": -943.0185546875,\n        \"max\": 549.09716796875,\n        \"num_unique_values\": 2224,\n        \"samples\": [\n          15.363006591796875,\n          250.355712890625,\n          -7.484619140625\n        ],\n        \"semantic_type\": \"\",\n        \"description\": \"\"\n      }\n    },\n    {\n      \"column\": \"High\",\n      \"properties\": {\n        \"dtype\": \"number\",\n        \"std\": 62.42920141473546,\n        \"min\": -548.1474609375,\n        \"max\": 465.14599609375,\n        \"num_unique_values\": 2223,\n        \"samples\": [\n          9.531005859375,\n          -120.46875,\n          14.3197021484375\n        ],\n        \"semantic_type\": \"\",\n        \"description\": \"\"\n      }\n    },\n    {\n      \"column\": \"Low\",\n      \"properties\": {\n        \"dtype\": \"number\",\n        \"std\": 74.98632532813878,\n        \"min\": -1293.94384765625,\n        \"max\": 514.723388671875,\n        \"num_unique_values\": 2225,\n        \"samples\": [\n          -2.6263427734375,\n          1.09576416015625,\n          57.900146484375\n        ],\n        \"semantic_type\": \"\",\n        \"description\": \"\"\n      }\n    },\n    {\n      \"column\": \"Close\",\n      \"properties\": {\n        \"dtype\": \"number\",\n        \"std\": 73.97994651249877,\n        \"min\": -919.390869140625,\n        \"max\": 534.01123046875,\n        \"num_unique_values\": 2226,\n        \"samples\": [\n          8.95001220703125,\n          21.161590576171903,\n          -7.423583984375\n        ],\n        \"semantic_type\": \"\",\n        \"description\": \"\"\n      }\n    },\n    {\n      \"column\": \"Adj Close\",\n      \"properties\": {\n        \"dtype\": \"number\",\n        \"std\": 73.97994651249877,\n        \"min\": -919.390869140625,\n        \"max\": 534.01123046875,\n        \"num_unique_values\": 2226,\n        \"samples\": [\n          8.95001220703125,\n          21.161590576171903,\n          -7.423583984375\n        ],\n        \"semantic_type\": \"\",\n        \"description\": \"\"\n      }\n    }\n  ]\n}"
            }
          },
          "metadata": {},
          "execution_count": 22
        }
      ]
    },
    {
      "cell_type": "code",
      "source": [
        "data = df_first_diff.dropna()"
      ],
      "metadata": {
        "id": "KDx1QIlOh56M"
      },
      "execution_count": 23,
      "outputs": []
    },
    {
      "cell_type": "code",
      "source": [
        "data.to_excel(os.path.join(prj_path, 'processed_data/processed_data.xlsx'), index=False)"
      ],
      "metadata": {
        "id": "QBGILOLLu_RB"
      },
      "execution_count": 13,
      "outputs": []
    }
  ],
  "metadata": {
    "colab": {
      "provenance": []
    },
    "kernelspec": {
      "display_name": "Python 3",
      "name": "python3"
    }
  },
  "nbformat": 4,
  "nbformat_minor": 0
}